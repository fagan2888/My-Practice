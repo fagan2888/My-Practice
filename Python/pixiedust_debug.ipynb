{
 "cells": [
  {
   "cell_type": "code",
   "execution_count": 1,
   "metadata": {},
   "outputs": [
    {
     "name": "stdout",
     "output_type": "stream",
     "text": [
      "Requirement already satisfied: pixiedust in d:\\anaconda\\lib\\site-packages (1.1.17)\n",
      "Requirement already satisfied: mpld3 in d:\\anaconda\\lib\\site-packages (from pixiedust) (0.3)\n",
      "Requirement already satisfied: markdown in d:\\anaconda\\lib\\site-packages (from pixiedust) (3.1.1)\n",
      "Requirement already satisfied: geojson in d:\\anaconda\\lib\\site-packages (from pixiedust) (2.4.1)\n",
      "Requirement already satisfied: requests in d:\\anaconda\\lib\\site-packages (from pixiedust) (2.19.1)\n",
      "Requirement already satisfied: astunparse in d:\\anaconda\\lib\\site-packages (from pixiedust) (1.6.2)\n",
      "Requirement already satisfied: lxml in d:\\anaconda\\lib\\site-packages (from pixiedust) (4.2.5)\n",
      "Requirement already satisfied: colour in d:\\anaconda\\lib\\site-packages (from pixiedust) (0.1.5)\n",
      "Requirement already satisfied: setuptools>=36 in d:\\anaconda\\lib\\site-packages (from markdown->pixiedust) (40.2.0)\n",
      "Requirement already satisfied: chardet<3.1.0,>=3.0.2 in d:\\anaconda\\lib\\site-packages (from requests->pixiedust) (3.0.4)\n",
      "Requirement already satisfied: urllib3<1.24,>=1.21.1 in d:\\anaconda\\lib\\site-packages (from requests->pixiedust) (1.23)\n",
      "Requirement already satisfied: certifi>=2017.4.17 in d:\\anaconda\\lib\\site-packages (from requests->pixiedust) (2019.3.9)\n",
      "Requirement already satisfied: idna<2.8,>=2.5 in d:\\anaconda\\lib\\site-packages (from requests->pixiedust) (2.7)\n",
      "Requirement already satisfied: wheel<1.0,>=0.23.0 in d:\\anaconda\\lib\\site-packages (from astunparse->pixiedust) (0.31.1)\n",
      "Requirement already satisfied: six<2.0,>=1.6.1 in d:\\anaconda\\lib\\site-packages (from astunparse->pixiedust) (1.11.0)\n"
     ]
    }
   ],
   "source": [
    "!pip install pixiedust"
   ]
  },
  {
   "cell_type": "code",
   "execution_count": 2,
   "metadata": {},
   "outputs": [
    {
     "name": "stdout",
     "output_type": "stream",
     "text": [
      "Pixiedust database opened successfully\n"
     ]
    },
    {
     "data": {
      "text/html": [
       "\n",
       "        <div style=\"margin:10px\">\n",
       "            <a href=\"https://github.com/ibm-watson-data-lab/pixiedust\" target=\"_new\">\n",
       "                <img src=\"https://github.com/ibm-watson-data-lab/pixiedust/raw/master/docs/_static/pd_icon32.png\" style=\"float:left;margin-right:10px\"/>\n",
       "            </a>\n",
       "            <span>Pixiedust version 1.1.17</span>\n",
       "        </div>\n",
       "        "
      ],
      "text/plain": [
       "<IPython.core.display.HTML object>"
      ]
     },
     "metadata": {},
     "output_type": "display_data"
    }
   ],
   "source": [
    "import pixiedust"
   ]
  },
  {
   "cell_type": "code",
   "execution_count": 3,
   "metadata": {
    "pixiedust": {
     "displayParams": {}
    }
   },
   "outputs": [
    {
     "data": {
      "text/html": [
       "<style type=\"text/css\">.pd_warning{display:none;}</style><div class=\"pd_warning\"><em>Hey, there's something awesome here! To see it, open this notebook outside GitHub, in a viewer like Jupyter</em></div>"
      ],
      "text/plain": [
       "<IPython.core.display.HTML object>"
      ]
     },
     "metadata": {
      "pixieapp_metadata": null
     },
     "output_type": "display_data"
    }
   ],
   "source": [
    "%%pixie_debugger\n",
    "\n",
    "cars = pixiedust.sampleData(1, forcePandas=True)\n",
    "\n",
    "def count_cars(name):\n",
    "    count = 0\n",
    "    for row in cars.itertuples():\n",
    "        if name in row.name:\n",
    "            count += 1\n",
    "    return count\n",
    "\n",
    "count_cars('chevrolet')"
   ]
  }
 ],
 "metadata": {
  "kernelspec": {
   "display_name": "Python 3",
   "language": "python",
   "name": "python3"
  },
  "language_info": {
   "codemirror_mode": {
    "name": "ipython",
    "version": 3
   },
   "file_extension": ".py",
   "mimetype": "text/x-python",
   "name": "python",
   "nbconvert_exporter": "python",
   "pygments_lexer": "ipython3",
   "version": "3.7.0"
  }
 },
 "nbformat": 4,
 "nbformat_minor": 2
}
