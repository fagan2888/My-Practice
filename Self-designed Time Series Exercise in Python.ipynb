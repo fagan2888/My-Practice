{
 "cells": [
  {
   "cell_type": "markdown",
   "metadata": {},
   "source": [
    "# Exercise\n",
    "\n",
    "In this exercise, we'll work with a data set of White House visitors. The full set of records can be found on the [Obama White House Archives Site](https://obamawhitehouse.archives.gov/briefing-room/disclosures/visitor-records). In this exercise we'll be working with a smaller version of the dataset, `potus_visitors_2015.csv`, which only includes visitors who met with the president in 2015. (The data could be downloaded from the `data` folder.)   \n",
    "\n",
    "Here are descriptions of each column:   \n",
    "\n",
    "Column  | Description\n",
    "------- | -----------\n",
    "name  | The name of the visitor\n",
    "appt_made_date  | The date and time that the appointment was created\n",
    "appt_start_date | The date and time that the appointment was scheduled to start\n",
    "appt_end_date | The date and time that the appointment was scheduled to end\n",
    "visitee_namelast | The last name of the visitee (the person the visitor was meeting with)\n",
    "visitee_namefirst | The first name of the visitee\n",
    "meeting_room | The room in which the appointment was scheduled\n",
    "description | Optional comments added by the WAVES operator\n",
    "\n",
    "In this exercise, we're going to complete following tasks:\n",
    "\n",
    "* Convert string to datatime format.\n",
    "* Find out the month with the most visitors.\n",
    "* Produce neatly formatted summaries of visits.\n",
    "* Calculate the duration of appointments.\n",
    "\n",
    "<img src=\"https://s3.amazonaws.com/dq-content/353/white_house.jpg\">"
   ]
  },
  {
   "cell_type": "markdown",
   "metadata": {},
   "source": [
    "First, let's read in our CSV file and save it in variable **potus**."
   ]
  },
  {
   "cell_type": "code",
   "execution_count": null,
   "metadata": {},
   "outputs": [],
   "source": [
    "!pip install pandas\n",
    "import pandas as pd"
   ]
  },
  {
   "cell_type": "code",
   "execution_count": null,
   "metadata": {},
   "outputs": [],
   "source": [
    "# Your Answer goes here\n"
   ]
  },
  {
   "cell_type": "code",
   "execution_count": null,
   "metadata": {},
   "outputs": [],
   "source": [
    "# Answer:\n",
    "\n",
    "potus = pd.read_csv('potus_visitors_2015.csv', header=True)"
   ]
  },
  {
   "cell_type": "markdown",
   "metadata": {},
   "source": [
    "Create a string **date_format** that specifies the format of the `appt_start_date` column. This has been done for you."
   ]
  },
  {
   "cell_type": "code",
   "execution_count": null,
   "metadata": {},
   "outputs": [],
   "source": [
    "date_format = \"%m/%d/%y %H:%M\""
   ]
  },
  {
   "cell_type": "markdown",
   "metadata": {},
   "source": [
    "Convert `appt_start_date` column from a string to a datetime object, using the **date_format** string created earlier.   \n",
    "\n",
    "*Hint: Use pd.to_datetime(data, format)*"
   ]
  },
  {
   "cell_type": "code",
   "execution_count": null,
   "metadata": {},
   "outputs": [],
   "source": [
    "# Your answer goes here\n"
   ]
  },
  {
   "cell_type": "code",
   "execution_count": null,
   "metadata": {},
   "outputs": [],
   "source": [
    "# Answer:\n",
    "\n",
    "potus['appt_start_date'] = pd.to_datetime(potus['appt_start_date'], format=date_format)"
   ]
  },
  {
   "cell_type": "markdown",
   "metadata": {},
   "source": [
    "Now with appointment start date in datatime format, we can find out the earliest and latest appointment times.   \n",
    "\n",
    "*Hint: Use pd.Series.min()/max()*"
   ]
  },
  {
   "cell_type": "code",
   "execution_count": null,
   "metadata": {},
   "outputs": [],
   "source": [
    "# Your answer goes here\n"
   ]
  },
  {
   "cell_type": "code",
   "execution_count": null,
   "metadata": {},
   "outputs": [],
   "source": [
    "# Answer:\n",
    "\n",
    "earst_appt_time = potus['appt_start_date'].min()\n",
    "latst_appt_time = potus['appt_start_date'].max()"
   ]
  },
  {
   "cell_type": "markdown",
   "metadata": {},
   "source": [
    "To find out the month with the most visitors, add a new column to **potus** named `appt_start_date_month` by converting the `appt_start_date` column to a format of \"January, 1901\". The string format used here is \"%B, %Y\". This has been done for you."
   ]
  },
  {
   "cell_type": "code",
   "execution_count": null,
   "metadata": {},
   "outputs": [],
   "source": [
    "potus['appt_start_date_month'] = potus['appt_start_date'].dt.strftime(\"%B, %Y\")"
   ]
  },
  {
   "cell_type": "markdown",
   "metadata": {},
   "source": [
    "Initialize an empty dictionary, **visitors_per_month**."
   ]
  },
  {
   "cell_type": "code",
   "execution_count": null,
   "metadata": {},
   "outputs": [],
   "source": [
    "# Your answer goes here\n"
   ]
  },
  {
   "cell_type": "code",
   "execution_count": null,
   "metadata": {},
   "outputs": [],
   "source": [
    "# Answer:\n",
    "\n",
    "visitors_per_month = {}"
   ]
  },
  {
   "cell_type": "markdown",
   "metadata": {},
   "source": [
    "Iterate over `appt_start_date_month` column in **potus**. If the it is not a key in **visitors_per_month**, add it as a key with a value of 1. If it is a key in **visitors_per_month**, add 1 to the existing value for that key.   \n",
    "\n",
    "*Hint: Use df.loc() or df.iloc() to extract the value in a specific position*"
   ]
  },
  {
   "cell_type": "code",
   "execution_count": null,
   "metadata": {},
   "outputs": [],
   "source": [
    "# Your answer goes here\n"
   ]
  },
  {
   "cell_type": "code",
   "execution_count": null,
   "metadata": {},
   "outputs": [],
   "source": [
    "# Answer:\n",
    "\n",
    "for i in range(0, len(potus)):\n",
    "    month_str = potus.iloc[i,-1]\n",
    "    if month_str not in visitors_per_month:\n",
    "        visitors_per_month[month_str] = 1\n",
    "    else:\n",
    "        visitors_per_month[month_str] += 1"
   ]
  },
  {
   "cell_type": "markdown",
   "metadata": {},
   "source": [
    "With the dictionary `visitors_per_month`, we could make a frequency summary for visits. Convert the dictionary to a pandas dataframe showing month (key) and number of visits (value).   \n",
    "\n",
    "*Hint: Use pd.DataFrame(data)*"
   ]
  },
  {
   "cell_type": "code",
   "execution_count": null,
   "metadata": {},
   "outputs": [],
   "source": [
    "# Your answer goes here\n"
   ]
  },
  {
   "cell_type": "code",
   "execution_count": null,
   "metadata": {},
   "outputs": [],
   "source": [
    "# Answer:\n",
    "\n",
    "month_freq = pd.DataFrame(visitors_per_month, index=['freq']).T\n",
    "month_freq"
   ]
  },
  {
   "cell_type": "markdown",
   "metadata": {},
   "source": [
    "Find out the month with the most visitors by sorting the dataframe you created above.   \n",
    "\n",
    "*Hint: Use df.sort_values(by=[column name(s)], ascending=False)*"
   ]
  },
  {
   "cell_type": "code",
   "execution_count": null,
   "metadata": {},
   "outputs": [],
   "source": [
    "# Your answer goes here\n"
   ]
  },
  {
   "cell_type": "code",
   "execution_count": null,
   "metadata": {},
   "outputs": [],
   "source": [
    "# Answer:\n",
    "\n",
    "month_freq_sort = month_freq.sort_values(by='freq', ascending=False)\n",
    "most_visited_month = month_freq_sort.index[0]"
   ]
  },
  {
   "cell_type": "markdown",
   "metadata": {},
   "source": [
    "Similarly, we could convert `appt_end_date` column to datatime format, and then calculate the time difference between `appt_start_date` and `appt_end_date`. Create a new column named `appt_duration` and add it to **potus**."
   ]
  },
  {
   "cell_type": "code",
   "execution_count": null,
   "metadata": {},
   "outputs": [],
   "source": [
    "# Your answer goes here\n"
   ]
  },
  {
   "cell_type": "code",
   "execution_count": null,
   "metadata": {},
   "outputs": [],
   "source": [
    "# Answer:\n",
    "\n",
    "potus['appt_end_date'] = pd.to_datetime(potus['appt_end_date'], format=date_format)\n",
    "potus['appt_duration'] = potus['appt_end_date'] - potus['appt_start_date']"
   ]
  },
  {
   "cell_type": "markdown",
   "metadata": {},
   "source": [
    "Sort the dataframe by `appt_duration` in desecending order. What do you find?"
   ]
  },
  {
   "cell_type": "code",
   "execution_count": null,
   "metadata": {},
   "outputs": [],
   "source": [
    "# Your answer goer here\n"
   ]
  },
  {
   "cell_type": "code",
   "execution_count": null,
   "metadata": {},
   "outputs": [],
   "source": [
    "# Answer:\n",
    "\n",
    "potus_sort = potus.sort_values(by='appt_duration', ascending=False)"
   ]
  }
 ],
 "metadata": {
  "kernelspec": {
   "display_name": "Python 3",
   "language": "python",
   "name": "python3"
  },
  "language_info": {
   "codemirror_mode": {
    "name": "ipython",
    "version": 3
   },
   "file_extension": ".py",
   "mimetype": "text/x-python",
   "name": "python",
   "nbconvert_exporter": "python",
   "pygments_lexer": "ipython3",
   "version": "3.7.0"
  }
 },
 "nbformat": 4,
 "nbformat_minor": 2
}
