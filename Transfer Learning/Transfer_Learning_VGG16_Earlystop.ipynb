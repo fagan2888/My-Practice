{
  "nbformat": 4,
  "nbformat_minor": 0,
  "metadata": {
    "colab": {
      "name": "Transfer Learning - VGG16 - Earlystop.ipynb",
      "version": "0.3.2",
      "provenance": [],
      "collapsed_sections": []
    },
    "language_info": {
      "codemirror_mode": {
        "name": "ipython",
        "version": 3
      },
      "file_extension": ".py",
      "mimetype": "text/x-python",
      "name": "python",
      "nbconvert_exporter": "python",
      "pygments_lexer": "ipython3",
      "version": "3.5.2"
    },
    "kernelspec": {
      "display_name": "Python [Root]",
      "language": "python",
      "name": "Python [Root]"
    },
    "accelerator": "GPU"
  },
  "cells": [
    {
      "cell_type": "markdown",
      "metadata": {
        "collapsed": true,
        "id": "enlfTzE3c540",
        "colab_type": "text"
      },
      "source": [
        "## Import the Packages"
      ]
    },
    {
      "cell_type": "code",
      "metadata": {
        "id": "wZ_oHwvUc542",
        "colab_type": "code",
        "colab": {
          "base_uri": "https://localhost:8080/",
          "height": 35
        },
        "outputId": "4a0c0796-731e-4f9e-d4fd-a49b241feb16"
      },
      "source": [
        "from keras.layers import Conv2D, MaxPooling2D, Dropout, Flatten, Dense, Activation, Input\n",
        "from keras.models import Sequential, load_model\n",
        "from keras.datasets import mnist\n",
        "from keras.utils import to_categorical\n",
        "from keras.preprocessing.image import ImageDataGenerator\n",
        "from keras import applications\n",
        "from keras.models import Model\n",
        "from keras.callbacks import EarlyStopping, ModelCheckpoint\n",
        "import h5py\n",
        "import numpy as np\n",
        "\n",
        "import matplotlib.pyplot as plt\n",
        "%matplotlib inline"
      ],
      "execution_count": 1,
      "outputs": [
        {
          "output_type": "stream",
          "text": [
            "Using TensorFlow backend.\n"
          ],
          "name": "stderr"
        }
      ]
    },
    {
      "cell_type": "markdown",
      "metadata": {
        "collapsed": true,
        "id": "vhqaKYCbc54_",
        "colab_type": "text"
      },
      "source": [
        "## Data Loading"
      ]
    },
    {
      "cell_type": "code",
      "metadata": {
        "id": "_FW651_Mkdab",
        "colab_type": "code",
        "colab": {}
      },
      "source": [
        "from google.colab import auth\n",
        "auth.authenticate_user()"
      ],
      "execution_count": 0,
      "outputs": []
    },
    {
      "cell_type": "code",
      "metadata": {
        "id": "8q7yEHRkkdS9",
        "colab_type": "code",
        "outputId": "c8ef0a1c-69da-4e2a-f77d-ccfda1760f03",
        "colab": {
          "base_uri": "https://localhost:8080/",
          "height": 69
        }
      },
      "source": [
        "!gsutil -m cp gs://deep-nexus/Kather_texture/hdf5_data/train.hdf5 sample_data/"
      ],
      "execution_count": 3,
      "outputs": [
        {
          "output_type": "stream",
          "text": [
            "Copying gs://deep-nexus/Kather_texture/hdf5_data/train.hdf5...\n",
            "/ [1/1 files][257.5 MiB/257.5 MiB] 100% Done                                    \n",
            "Operation completed over 1 objects/257.5 MiB.                                    \n"
          ],
          "name": "stdout"
        }
      ]
    },
    {
      "cell_type": "code",
      "metadata": {
        "id": "32fZOwKqhjvT",
        "colab_type": "code",
        "outputId": "c8445855-c0e5-4c08-d21d-0903642f5c6a",
        "colab": {
          "base_uri": "https://localhost:8080/",
          "height": 69
        }
      },
      "source": [
        "!gsutil -m cp gs://deep-nexus/Kather_texture/hdf5_data/test.hdf5 sample_data/"
      ],
      "execution_count": 4,
      "outputs": [
        {
          "output_type": "stream",
          "text": [
            "Copying gs://deep-nexus/Kather_texture/hdf5_data/test.hdf5...\n",
            "- [1/1 files][ 32.5 MiB/ 32.5 MiB] 100% Done                                    \n",
            "Operation completed over 1 objects/32.5 MiB.                                     \n"
          ],
          "name": "stdout"
        }
      ]
    },
    {
      "cell_type": "code",
      "metadata": {
        "id": "LBodK48AmTU-",
        "colab_type": "code",
        "outputId": "700147c4-6cff-401d-8372-07a13c688fbb",
        "colab": {
          "base_uri": "https://localhost:8080/",
          "height": 69
        }
      },
      "source": [
        "!gsutil -m cp gs://deep-nexus/Kather_texture/hdf5_data/valid.hdf5 sample_data/"
      ],
      "execution_count": 5,
      "outputs": [
        {
          "output_type": "stream",
          "text": [
            "Copying gs://deep-nexus/Kather_texture/hdf5_data/valid.hdf5...\n",
            "- [1/1 files][ 31.9 MiB/ 31.9 MiB] 100% Done                                    \n",
            "Operation completed over 1 objects/31.9 MiB.                                     \n"
          ],
          "name": "stdout"
        }
      ]
    },
    {
      "cell_type": "code",
      "metadata": {
        "id": "CUstZeID067c",
        "colab_type": "code",
        "colab": {}
      },
      "source": [
        "def load_dataset():\n",
        "    train_dataset = h5py.File('sample_data/train.hdf5', \"r\")\n",
        "    X_train = np.array(train_dataset[\"data_x\"][:]) # your train set features\n",
        "    y_train = np.array(train_dataset[\"data_y\"][:]) # your train set labels\n",
        "\n",
        "    valid_dataset = h5py.File('sample_data/valid.hdf5', \"r\")\n",
        "    X_valid = np.array(valid_dataset[\"data_x\"][:]) # your valid set features\n",
        "    y_valid = np.array(valid_dataset[\"data_y\"][:]) # your valid set labels\n",
        "    \n",
        "    test_dataset = h5py.File('sample_data/test.hdf5', \"r\")\n",
        "    X_test = np.array(test_dataset[\"data_x\"][:]) # your test set features\n",
        "    y_test = np.array(test_dataset[\"data_y\"][:]) # your test set labels\n",
        "\n",
        "    classes = np.array(['01_TUMOR','02_STROMA','03_COMPLEX','04_LYMPHO','05_DEBRIS','06_MUCOSA','07_ADIPOSE','08_EMPTY']) # the list of classes\n",
        "\n",
        "    return X_train, y_train, X_valid, y_valid, X_test, y_test, classes"
      ],
      "execution_count": 0,
      "outputs": []
    },
    {
      "cell_type": "code",
      "metadata": {
        "id": "PcmYeXxVvYCV",
        "colab_type": "code",
        "colab": {}
      },
      "source": [
        "X_train, y_train, X_valid, y_valid, X_test, y_test, classes = load_dataset()"
      ],
      "execution_count": 0,
      "outputs": []
    },
    {
      "cell_type": "code",
      "metadata": {
        "id": "ajVZ2VL9uOLi",
        "colab_type": "code",
        "outputId": "5071ab78-5377-4ff9-976b-d0f3493ce480",
        "colab": {
          "base_uri": "https://localhost:8080/",
          "height": 287
        }
      },
      "source": [
        "index = 1000\n",
        "plt.imshow(X_train[index])\n",
        "print (\"y = \" + str(y_train[index]) + \", it's a '\" + classes[y_train[index-1]] +  \"' picture.\")\n"
      ],
      "execution_count": 8,
      "outputs": [
        {
          "output_type": "stream",
          "text": [
            "y = 3, it's a '03_COMPLEX' picture.\n"
          ],
          "name": "stdout"
        },
        {
          "output_type": "display_data",
          "data": {
            "image/png": "[encoded data removed]",
            "text/plain": [
              "<Figure size 432x288 with 1 Axes>"
            ]
          },
          "metadata": {
            "tags": []
          }
        }
      ]
    },
    {
      "cell_type": "code",
      "metadata": {
        "id": "AO7l546Bc55H",
        "colab_type": "code",
        "outputId": "93be4a76-4802-44d5-d11e-e3cdb8d5882e",
        "colab": {
          "base_uri": "https://localhost:8080/",
          "height": 121
        }
      },
      "source": [
        "print(X_train.shape)\n",
        "print(y_train.shape)\n",
        "print(X_valid.shape)\n",
        "print(y_valid.shape)\n",
        "print(X_test.shape)\n",
        "print(y_test.shape)"
      ],
      "execution_count": 9,
      "outputs": [
        {
          "output_type": "stream",
          "text": [
            "(4000, 150, 150, 3)\n",
            "(4000,)\n",
            "(496, 150, 150, 3)\n",
            "(496,)\n",
            "(504, 150, 150, 3)\n",
            "(504,)\n"
          ],
          "name": "stdout"
        }
      ]
    },
    {
      "cell_type": "markdown",
      "metadata": {
        "collapsed": true,
        "id": "C7_1mVRoc55Q",
        "colab_type": "text"
      },
      "source": [
        "## Data Pre-processing"
      ]
    },
    {
      "cell_type": "code",
      "metadata": {
        "id": "vTW7_d-_c55U",
        "colab_type": "code",
        "colab": {}
      },
      "source": [
        "# Resizing images to 1-D array to be fit into NN\n",
        "X_train = X_train.reshape(4000, 150, 150, 3)\n",
        "X_valid = X_valid.reshape(496, 150, 150, 3)\n",
        "X_test = X_test.reshape(504, 150, 150, 3)\n",
        "\n",
        "# Converting the data to float type \n",
        "X_train = X_train.astype('float32')\n",
        "X_valid = X_valid.astype('float32')\n",
        "X_test = X_test.astype('float32')\n",
        "\n",
        "# Scaling the data\n",
        "X_train = X_train/255.0\n",
        "X_valid = X_valid/255.0\n",
        "X_test = X_test/255.0\n",
        "\n",
        "num_classes = 8\n",
        "\n",
        "# Converting the output to categorical variables\n",
        "y_train = to_categorical(y_train-1,num_classes)\n",
        "y_valid = to_categorical(y_valid-1,num_classes)\n",
        "y_test = to_categorical(y_test-1, num_classes)"
      ],
      "execution_count": 0,
      "outputs": []
    },
    {
      "cell_type": "code",
      "metadata": {
        "id": "Rq2BqUyWc55a",
        "colab_type": "code",
        "outputId": "0c7b3494-17ae-4006-95cd-c0fb3f08a87d",
        "colab": {
          "base_uri": "https://localhost:8080/",
          "height": 121
        }
      },
      "source": [
        "# Chacking the train, validation and test sets\n",
        "\n",
        "print(X_train.shape)\n",
        "print(y_train.shape)\n",
        "print(X_valid.shape)\n",
        "print(y_valid.shape)\n",
        "print(X_test.shape)\n",
        "print(y_test.shape)"
      ],
      "execution_count": 11,
      "outputs": [
        {
          "output_type": "stream",
          "text": [
            "(4000, 150, 150, 3)\n",
            "(4000, 8)\n",
            "(496, 150, 150, 3)\n",
            "(496, 8)\n",
            "(504, 150, 150, 3)\n",
            "(504, 8)\n"
          ],
          "name": "stdout"
        }
      ]
    },
    {
      "cell_type": "markdown",
      "metadata": {
        "collapsed": true,
        "id": "93T40_tAc55n",
        "colab_type": "text"
      },
      "source": [
        "## Create and Compile the VGG16 Model"
      ]
    },
    {
      "cell_type": "code",
      "metadata": {
        "id": "8Vm9E2WE83Cf",
        "colab_type": "code",
        "outputId": "8eaf9858-b407-4414-f6f5-9a63fa71445b",
        "colab": {
          "base_uri": "https://localhost:8080/",
          "height": 1000
        }
      },
      "source": [
        "# LOAD VGG16\n",
        "input_tensor = Input(shape=(150,150,3))\n",
        "model_vgg16_conv = applications.VGG16(weights='imagenet', \n",
        "                           include_top=False,\n",
        "                           input_tensor=input_tensor)\n",
        "model_vgg16_conv.summary()"
      ],
      "execution_count": 12,
      "outputs": [
        {
          "output_type": "stream",
          "text": [
            "WARNING: Logging before flag parsing goes to stderr.\n",
            "W0813 23:56:16.234469 139903143126912 deprecation_wrapper.py:119] From /usr/local/lib/python3.6/dist-packages/keras/backend/tensorflow_backend.py:74: The name tf.get_default_graph is deprecated. Please use tf.compat.v1.get_default_graph instead.\n",
            "\n",
            "W0813 23:56:16.256107 139903143126912 deprecation_wrapper.py:119] From /usr/local/lib/python3.6/dist-packages/keras/backend/tensorflow_backend.py:517: The name tf.placeholder is deprecated. Please use tf.compat.v1.placeholder instead.\n",
            "\n",
            "W0813 23:56:16.259510 139903143126912 deprecation_wrapper.py:119] From /usr/local/lib/python3.6/dist-packages/keras/backend/tensorflow_backend.py:4138: The name tf.random_uniform is deprecated. Please use tf.random.uniform instead.\n",
            "\n",
            "W0813 23:56:16.287851 139903143126912 deprecation_wrapper.py:119] From /usr/local/lib/python3.6/dist-packages/keras/backend/tensorflow_backend.py:3976: The name tf.nn.max_pool is deprecated. Please use tf.nn.max_pool2d instead.\n",
            "\n"
          ],
          "name": "stderr"
        },
        {
          "output_type": "stream",
          "text": [
            "Downloading data from https://github.com/fchollet/deep-learning-models/releases/download/v0.1/vgg16_weights_tf_dim_ordering_tf_kernels_notop.h5\n",
            "58892288/58889256 [==============================] - 2s 0us/step\n"
          ],
          "name": "stdout"
        },
        {
          "output_type": "stream",
          "text": [
            "W0813 23:56:18.804658 139903143126912 deprecation_wrapper.py:119] From /usr/local/lib/python3.6/dist-packages/keras/backend/tensorflow_backend.py:174: The name tf.get_default_session is deprecated. Please use tf.compat.v1.get_default_session instead.\n",
            "\n",
            "W0813 23:56:18.805763 139903143126912 deprecation_wrapper.py:119] From /usr/local/lib/python3.6/dist-packages/keras/backend/tensorflow_backend.py:181: The name tf.ConfigProto is deprecated. Please use tf.compat.v1.ConfigProto instead.\n",
            "\n"
          ],
          "name": "stderr"
        },
        {
          "output_type": "stream",
          "text": [
            "_________________________________________________________________\n",
            "Layer (type)                 Output Shape              Param #   \n",
            "=================================================================\n",
            "input_1 (InputLayer)         (None, 150, 150, 3)       0         \n",
            "_________________________________________________________________\n",
            "block1_conv1 (Conv2D)        (None, 150, 150, 64)      1792      \n",
            "_________________________________________________________________\n",
            "block1_conv2 (Conv2D)        (None, 150, 150, 64)      36928     \n",
            "_________________________________________________________________\n",
            "block1_pool (MaxPooling2D)   (None, 75, 75, 64)        0         \n",
            "_________________________________________________________________\n",
            "block2_conv1 (Conv2D)        (None, 75, 75, 128)       73856     \n",
            "_________________________________________________________________\n",
            "block2_conv2 (Conv2D)        (None, 75, 75, 128)       147584    \n",
            "_________________________________________________________________\n",
            "block2_pool (MaxPooling2D)   (None, 37, 37, 128)       0         \n",
            "_________________________________________________________________\n",
            "block3_conv1 (Conv2D)        (None, 37, 37, 256)       295168    \n",
            "_________________________________________________________________\n",
            "block3_conv2 (Conv2D)        (None, 37, 37, 256)       590080    \n",
            "_________________________________________________________________\n",
            "block3_conv3 (Conv2D)        (None, 37, 37, 256)       590080    \n",
            "_________________________________________________________________\n",
            "block3_pool (MaxPooling2D)   (None, 18, 18, 256)       0         \n",
            "_________________________________________________________________\n",
            "block4_conv1 (Conv2D)        (None, 18, 18, 512)       1180160   \n",
            "_________________________________________________________________\n",
            "block4_conv2 (Conv2D)        (None, 18, 18, 512)       2359808   \n",
            "_________________________________________________________________\n",
            "block4_conv3 (Conv2D)        (None, 18, 18, 512)       2359808   \n",
            "_________________________________________________________________\n",
            "block4_pool (MaxPooling2D)   (None, 9, 9, 512)         0         \n",
            "_________________________________________________________________\n",
            "block5_conv1 (Conv2D)        (None, 9, 9, 512)         2359808   \n",
            "_________________________________________________________________\n",
            "block5_conv2 (Conv2D)        (None, 9, 9, 512)         2359808   \n",
            "_________________________________________________________________\n",
            "block5_conv3 (Conv2D)        (None, 9, 9, 512)         2359808   \n",
            "_________________________________________________________________\n",
            "block5_pool (MaxPooling2D)   (None, 4, 4, 512)         0         \n",
            "=================================================================\n",
            "Total params: 14,714,688\n",
            "Trainable params: 14,714,688\n",
            "Non-trainable params: 0\n",
            "_________________________________________________________________\n"
          ],
          "name": "stdout"
        }
      ]
    },
    {
      "cell_type": "markdown",
      "metadata": {
        "id": "Y1-JXDuRcjoH",
        "colab_type": "text"
      },
      "source": [
        "Reference link: https://www.analyticsvidhya.com/blog/2017/06/transfer-learning-the-art-of-fine-tuning-a-pre-trained-model/"
      ]
    },
    {
      "cell_type": "code",
      "metadata": {
        "id": "4T0IiRjQFJPy",
        "colab_type": "code",
        "outputId": "19ce29f4-aff0-4b75-9cff-294b5dd91c8d",
        "colab": {
          "base_uri": "https://localhost:8080/",
          "height": 419
        }
      },
      "source": [
        "# Make vgg16 model layers as non trainable\n",
        "for layer in model_vgg16_conv.layers:\n",
        "    layer.trainable = False\n",
        "\n",
        "# Create our own input format\n",
        "input = Input(shape=(150,150,3),name = 'image_input')   \n",
        "\n",
        "# Use the generated model \n",
        "output_vgg16_conv = model_vgg16_conv(input)\n",
        "\n",
        "# Add the flatten layer and output layer\n",
        "x = Flatten(name='flatten')(output_vgg16_conv)\n",
        "x = Dense(512, activation='relu', name='fc1')(x)\n",
        "x = Dense(128, activation='relu', name='fc2')(x)\n",
        "x = Dense(8, activation='softmax', name='predictions')(x)\n",
        "\n",
        "# Create our own model\n",
        "my_model1 = Model(input=input, output=x)\n",
        "my_model1.summary()\n",
        "my_model1.compile(loss='categorical_crossentropy',\n",
        "              optimizer='adam',\n",
        "              metrics=['accuracy'])"
      ],
      "execution_count": 13,
      "outputs": [
        {
          "output_type": "stream",
          "text": [
            "/usr/local/lib/python3.6/dist-packages/ipykernel_launcher.py:17: UserWarning: Update your `Model` call to the Keras 2 API: `Model(inputs=Tensor(\"im..., outputs=Tensor(\"pr...)`\n",
            "W0813 23:56:19.847652 139903143126912 deprecation_wrapper.py:119] From /usr/local/lib/python3.6/dist-packages/keras/optimizers.py:790: The name tf.train.Optimizer is deprecated. Please use tf.compat.v1.train.Optimizer instead.\n",
            "\n"
          ],
          "name": "stderr"
        },
        {
          "output_type": "stream",
          "text": [
            "_________________________________________________________________\n",
            "Layer (type)                 Output Shape              Param #   \n",
            "=================================================================\n",
            "image_input (InputLayer)     (None, 150, 150, 3)       0         \n",
            "_________________________________________________________________\n",
            "vgg16 (Model)                (None, 4, 4, 512)         14714688  \n",
            "_________________________________________________________________\n",
            "flatten (Flatten)            (None, 8192)              0         \n",
            "_________________________________________________________________\n",
            "fc1 (Dense)                  (None, 512)               4194816   \n",
            "_________________________________________________________________\n",
            "fc2 (Dense)                  (None, 128)               65664     \n",
            "_________________________________________________________________\n",
            "predictions (Dense)          (None, 8)                 1032      \n",
            "=================================================================\n",
            "Total params: 18,976,200\n",
            "Trainable params: 4,261,512\n",
            "Non-trainable params: 14,714,688\n",
            "_________________________________________________________________\n"
          ],
          "name": "stdout"
        }
      ]
    },
    {
      "cell_type": "markdown",
      "metadata": {
        "id": "O03XgWQYSO_l",
        "colab_type": "text"
      },
      "source": [
        "## Model Without Data Augmentation"
      ]
    },
    {
      "cell_type": "code",
      "metadata": {
        "id": "XO7E_g_3OP4b",
        "colab_type": "code",
        "colab": {}
      },
      "source": [
        "callbacks1 = [EarlyStopping(monitor='val_loss', mode='min', patience=4, baseline=0.8),\n",
        "         ModelCheckpoint(filepath='best_model1.h5', monitor='val_loss', mode='min', save_best_only=True)]"
      ],
      "execution_count": 0,
      "outputs": []
    },
    {
      "cell_type": "code",
      "metadata": {
        "id": "aWleZYwKL4go",
        "colab_type": "code",
        "outputId": "da3a0513-1772-4444-a6a7-eb78900685e5",
        "colab": {
          "base_uri": "https://localhost:8080/",
          "height": 349
        }
      },
      "source": [
        "batch_size = 32\n",
        "nb_classes = 8\n",
        "nb_epoch = 20\n",
        "\n",
        "# fit the model\n",
        "history1 = my_model1.fit(X_train, y_train,\n",
        "           batch_size=batch_size,\n",
        "           epochs=nb_epoch,\n",
        "           callbacks=callbacks1,\n",
        "           validation_data=(X_valid, y_valid))"
      ],
      "execution_count": 15,
      "outputs": [
        {
          "output_type": "stream",
          "text": [
            "W0813 23:56:19.989873 139903143126912 deprecation.py:323] From /usr/local/lib/python3.6/dist-packages/tensorflow/python/ops/math_grad.py:1250: add_dispatch_support.<locals>.wrapper (from tensorflow.python.ops.array_ops) is deprecated and will be removed in a future version.\n",
            "Instructions for updating:\n",
            "Use tf.where in 2.0, which has the same broadcast rule as np.where\n"
          ],
          "name": "stderr"
        },
        {
          "output_type": "stream",
          "text": [
            "Train on 4000 samples, validate on 496 samples\n",
            "Epoch 1/20\n",
            "4000/4000 [==============================] - 16s 4ms/step - loss: 0.6799 - acc: 0.7650 - val_loss: 0.5096 - val_acc: 0.8085\n",
            "Epoch 2/20\n",
            "4000/4000 [==============================] - 12s 3ms/step - loss: 0.3336 - acc: 0.8822 - val_loss: 0.4345 - val_acc: 0.8468\n",
            "Epoch 3/20\n",
            "4000/4000 [==============================] - 12s 3ms/step - loss: 0.2498 - acc: 0.9145 - val_loss: 0.4326 - val_acc: 0.8508\n",
            "Epoch 4/20\n",
            "4000/4000 [==============================] - 12s 3ms/step - loss: 0.1849 - acc: 0.9340 - val_loss: 0.6467 - val_acc: 0.7984\n",
            "Epoch 5/20\n",
            "4000/4000 [==============================] - 12s 3ms/step - loss: 0.1352 - acc: 0.9532 - val_loss: 0.4545 - val_acc: 0.8548\n",
            "Epoch 6/20\n",
            "4000/4000 [==============================] - 12s 3ms/step - loss: 0.1016 - acc: 0.9665 - val_loss: 0.6231 - val_acc: 0.8266\n",
            "Epoch 7/20\n",
            "4000/4000 [==============================] - 12s 3ms/step - loss: 0.0821 - acc: 0.9748 - val_loss: 0.5413 - val_acc: 0.8407\n"
          ],
          "name": "stdout"
        }
      ]
    },
    {
      "cell_type": "code",
      "metadata": {
        "id": "LMweHFpmTICj",
        "colab_type": "code",
        "outputId": "94a757e2-438f-4429-9359-5169f0261cd9",
        "colab": {
          "base_uri": "https://localhost:8080/",
          "height": 299
        }
      },
      "source": [
        "plt.plot(history1.history['acc'], 'bo', label='Training')\n",
        "plt.plot(history1.history['val_acc'], 'b', label='Validation')\n",
        "\n",
        "plt.title('Training and validation accuracy')\n",
        "plt.legend()"
      ],
      "execution_count": 16,
      "outputs": [
        {
          "output_type": "execute_result",
          "data": {
            "text/plain": [
              "<matplotlib.legend.Legend at 0x7f3cfbe71940>"
            ]
          },
          "metadata": {
            "tags": []
          },
          "execution_count": 16
        },
        {
          "output_type": "display_data",
          "data": {
            "image/png": "[encoded data removed]",
            "text/plain": [
              "<Figure size 432x288 with 1 Axes>"
            ]
          },
          "metadata": {
            "tags": []
          }
        }
      ]
    },
    {
      "cell_type": "code",
      "metadata": {
        "id": "aGVTfamuCDUL",
        "colab_type": "code",
        "colab": {}
      },
      "source": [
        "opt_model1 = load_model('best_model1.h5')"
      ],
      "execution_count": 0,
      "outputs": []
    },
    {
      "cell_type": "code",
      "metadata": {
        "id": "hDz-HkMQUAfx",
        "colab_type": "code",
        "outputId": "17edff30-3dc8-4136-827d-f0c613d121e2",
        "colab": {
          "base_uri": "https://localhost:8080/",
          "height": 35
        }
      },
      "source": [
        "score1 = opt_model1.evaluate(X_test,y_test)"
      ],
      "execution_count": 18,
      "outputs": [
        {
          "output_type": "stream",
          "text": [
            "504/504 [==============================] - 3s 5ms/step\n"
          ],
          "name": "stdout"
        }
      ]
    },
    {
      "cell_type": "code",
      "metadata": {
        "id": "DYEoCROJq7T-",
        "colab_type": "code",
        "outputId": "1b82366c-b3cd-45f4-c282-b94dc9ba9cd7",
        "colab": {
          "base_uri": "https://localhost:8080/",
          "height": 35
        }
      },
      "source": [
        "score1"
      ],
      "execution_count": 19,
      "outputs": [
        {
          "output_type": "execute_result",
          "data": {
            "text/plain": [
              "[0.44049598229309866, 0.8412698412698413]"
            ]
          },
          "metadata": {
            "tags": []
          },
          "execution_count": 19
        }
      ]
    },
    {
      "cell_type": "markdown",
      "metadata": {
        "id": "mNX8LJ9-NJ-G",
        "colab_type": "text"
      },
      "source": [
        "## Model with Data Augmentation"
      ]
    },
    {
      "cell_type": "markdown",
      "metadata": {
        "id": "uhKgOV7PzKQO",
        "colab_type": "text"
      },
      "source": [
        "### Aug1"
      ]
    },
    {
      "cell_type": "code",
      "metadata": {
        "id": "BCUHebgh3drp",
        "colab_type": "code",
        "outputId": "a878f64a-b918-4f74-c7a5-6ea6794f27ee",
        "colab": {
          "base_uri": "https://localhost:8080/",
          "height": 72
        }
      },
      "source": [
        "my_model2 = Model(input=input, output=x)\n",
        "my_model2.compile(loss='categorical_crossentropy',\n",
        "              optimizer='adam',\n",
        "              metrics=['accuracy'])"
      ],
      "execution_count": 20,
      "outputs": [
        {
          "output_type": "stream",
          "text": [
            "/usr/local/lib/python3.6/dist-packages/ipykernel_launcher.py:1: UserWarning: Update your `Model` call to the Keras 2 API: `Model(inputs=Tensor(\"im..., outputs=Tensor(\"pr...)`\n",
            "  \"\"\"Entry point for launching an IPython kernel.\n"
          ],
          "name": "stderr"
        }
      ]
    },
    {
      "cell_type": "code",
      "metadata": {
        "id": "tkCBYV2yOvrH",
        "colab_type": "code",
        "colab": {}
      },
      "source": [
        "# Compute quantities required for featurewise normalization\n",
        "# (std, mean, and principal components if ZCA whitening is applied).\n",
        "datagen1 = ImageDataGenerator(\n",
        "        featurewise_center=False,  # set input mean to 0 over the dataset\n",
        "        samplewise_center=False,  # set each sample mean to 0\n",
        "        featurewise_std_normalization=False,  # divide inputs by std of the dataset\n",
        "        samplewise_std_normalization=False,  # divide each input by its std\n",
        "        zca_whitening=False,  # apply ZCA whitening\n",
        "        rotation_range=0,  # randomly rotate images in the range (degrees, 0 to 180)\n",
        "        width_shift_range=0.1,  # randomly shift images horizontally (fraction of total width)\n",
        "        height_shift_range=0.1,  # randomly shift images vertically (fraction of total height)\n",
        "        horizontal_flip=True,  # randomly flip images\n",
        "        vertical_flip=False)  # randomly flip images\n",
        "datagen1.fit(X_train)"
      ],
      "execution_count": 0,
      "outputs": []
    },
    {
      "cell_type": "code",
      "metadata": {
        "id": "VUzVtPd8VvMX",
        "colab_type": "code",
        "colab": {}
      },
      "source": [
        "callbacks2 = [EarlyStopping(monitor='val_loss', mode='min', patience=4, baseline=0.8),\n",
        "         ModelCheckpoint(filepath='best_model2.h5', monitor='val_loss', mode='min', save_best_only=True)]"
      ],
      "execution_count": 0,
      "outputs": []
    },
    {
      "cell_type": "code",
      "metadata": {
        "id": "M0HmrfQtN58I",
        "colab_type": "code",
        "outputId": "de23cfdf-257d-435d-a9b9-683f5f59d860",
        "colab": {
          "base_uri": "https://localhost:8080/",
          "height": 315
        }
      },
      "source": [
        "# Fit the model on the batches generated by datagen.flow\n",
        "history2 = my_model2.fit_generator(datagen1.flow(X_train, y_train, batch_size=batch_size),\n",
        "                        steps_per_epoch=X_train.shape[0] // batch_size,\n",
        "                        validation_data=(X_valid, y_valid),\n",
        "                        callbacks=callbacks2,\n",
        "                        epochs=nb_epoch, verbose=1, max_q_size=100)"
      ],
      "execution_count": 23,
      "outputs": [
        {
          "output_type": "stream",
          "text": [
            "/usr/local/lib/python3.6/dist-packages/ipykernel_launcher.py:5: UserWarning: Update your `fit_generator` call to the Keras 2 API: `fit_generator(<keras_pre..., steps_per_epoch=125, validation_data=(array([[[..., callbacks=[<keras.ca..., epochs=20, verbose=1, max_queue_size=100)`\n",
            "  \"\"\"\n"
          ],
          "name": "stderr"
        },
        {
          "output_type": "stream",
          "text": [
            "Epoch 1/20\n",
            "125/125 [==============================] - 21s 170ms/step - loss: 0.3473 - acc: 0.8847 - val_loss: 0.5500 - val_acc: 0.8085\n",
            "Epoch 2/20\n",
            "125/125 [==============================] - 20s 159ms/step - loss: 0.3021 - acc: 0.8935 - val_loss: 0.4902 - val_acc: 0.8286\n",
            "Epoch 3/20\n",
            "125/125 [==============================] - 20s 160ms/step - loss: 0.2658 - acc: 0.9042 - val_loss: 0.3430 - val_acc: 0.8690\n",
            "Epoch 4/20\n",
            "125/125 [==============================] - 20s 161ms/step - loss: 0.2458 - acc: 0.9135 - val_loss: 0.3736 - val_acc: 0.8649\n",
            "Epoch 5/20\n",
            "125/125 [==============================] - 20s 157ms/step - loss: 0.2264 - acc: 0.9205 - val_loss: 0.3800 - val_acc: 0.8569\n",
            "Epoch 6/20\n",
            "125/125 [==============================] - 20s 157ms/step - loss: 0.2098 - acc: 0.9253 - val_loss: 0.4122 - val_acc: 0.8609\n",
            "Epoch 7/20\n",
            "125/125 [==============================] - 20s 163ms/step - loss: 0.2265 - acc: 0.9200 - val_loss: 0.3756 - val_acc: 0.8931\n"
          ],
          "name": "stdout"
        }
      ]
    },
    {
      "cell_type": "code",
      "metadata": {
        "id": "Kv26M_irc57O",
        "colab_type": "code",
        "outputId": "1a2d2dca-29b4-4bd2-c3b0-6ed61ce9d328",
        "colab": {
          "base_uri": "https://localhost:8080/",
          "height": 299
        }
      },
      "source": [
        "plt.plot(history2.history['acc'], 'bo', label='Training')\n",
        "plt.plot(history2.history['val_acc'], 'b', label='Validation')\n",
        "\n",
        "plt.title('Training and validation accuracy')\n",
        "plt.legend()"
      ],
      "execution_count": 24,
      "outputs": [
        {
          "output_type": "execute_result",
          "data": {
            "text/plain": [
              "<matplotlib.legend.Legend at 0x7f3cfa21af28>"
            ]
          },
          "metadata": {
            "tags": []
          },
          "execution_count": 24
        },
        {
          "output_type": "display_data",
          "data": {
            "image/png": "[encoded data removed]",
            "text/plain": [
              "<Figure size 432x288 with 1 Axes>"
            ]
          },
          "metadata": {
            "tags": []
          }
        }
      ]
    },
    {
      "cell_type": "code",
      "metadata": {
        "id": "PIBlFgKyWLL3",
        "colab_type": "code",
        "colab": {}
      },
      "source": [
        "opt_model2 = load_model('best_model2.h5')"
      ],
      "execution_count": 0,
      "outputs": []
    },
    {
      "cell_type": "code",
      "metadata": {
        "id": "GhIHjMcjc57c",
        "colab_type": "code",
        "outputId": "121a516c-2d76-4455-de4d-805d16e49f32",
        "colab": {
          "base_uri": "https://localhost:8080/",
          "height": 35
        }
      },
      "source": [
        "score2 = opt_model2.evaluate(X_test,y_test)"
      ],
      "execution_count": 26,
      "outputs": [
        {
          "output_type": "stream",
          "text": [
            "504/504 [==============================] - 1s 3ms/step\n"
          ],
          "name": "stdout"
        }
      ]
    },
    {
      "cell_type": "code",
      "metadata": {
        "id": "lAGzdl2cc57h",
        "colab_type": "code",
        "outputId": "eb7da79b-8fb2-4812-f0cf-69041f7db0bb",
        "colab": {
          "base_uri": "https://localhost:8080/",
          "height": 35
        }
      },
      "source": [
        "score2"
      ],
      "execution_count": 27,
      "outputs": [
        {
          "output_type": "execute_result",
          "data": {
            "text/plain": [
              "[0.2876610574608166, 0.9186507936507936]"
            ]
          },
          "metadata": {
            "tags": []
          },
          "execution_count": 27
        }
      ]
    },
    {
      "cell_type": "markdown",
      "metadata": {
        "id": "oJIqJ96HzPVH",
        "colab_type": "text"
      },
      "source": [
        "### Aug2"
      ]
    },
    {
      "cell_type": "code",
      "metadata": {
        "id": "4v9W1Z6h3gtb",
        "colab_type": "code",
        "outputId": "09802f87-4fa6-4d6c-eb8a-df677f1b4351",
        "colab": {
          "base_uri": "https://localhost:8080/",
          "height": 72
        }
      },
      "source": [
        "my_model3 = Model(input=input, output=x)\n",
        "my_model3.compile(loss='categorical_crossentropy',\n",
        "              optimizer='adam',\n",
        "              metrics=['accuracy'])"
      ],
      "execution_count": 28,
      "outputs": [
        {
          "output_type": "stream",
          "text": [
            "/usr/local/lib/python3.6/dist-packages/ipykernel_launcher.py:1: UserWarning: Update your `Model` call to the Keras 2 API: `Model(inputs=Tensor(\"im..., outputs=Tensor(\"pr...)`\n",
            "  \"\"\"Entry point for launching an IPython kernel.\n"
          ],
          "name": "stderr"
        }
      ]
    },
    {
      "cell_type": "code",
      "metadata": {
        "id": "tsTxBJEZzQ99",
        "colab_type": "code",
        "colab": {}
      },
      "source": [
        "# Compute quantities required for featurewise normalization\n",
        "# (std, mean, and principal components if ZCA whitening is applied).\n",
        "datagen2 = ImageDataGenerator(\n",
        "        featurewise_center=False,  # set input mean to 0 over the dataset\n",
        "        samplewise_center=False,  # set each sample mean to 0\n",
        "        featurewise_std_normalization=False,  # divide inputs by std of the dataset\n",
        "        samplewise_std_normalization=False,  # divide each input by its std\n",
        "        zca_whitening=False,  # apply ZCA whitening\n",
        "        rotation_range=45,  # randomly rotate images in the range (degrees, 0 to 180)\n",
        "        width_shift_range=0.1,  # randomly shift images horizontally (fraction of total width)\n",
        "        height_shift_range=0.1,  # randomly shift images vertically (fraction of total height)\n",
        "        horizontal_flip=True,  # randomly flip images\n",
        "        vertical_flip=True)  # randomly flip images\n",
        "datagen2.fit(X_train)"
      ],
      "execution_count": 0,
      "outputs": []
    },
    {
      "cell_type": "code",
      "metadata": {
        "id": "DpuJPVEXYowC",
        "colab_type": "code",
        "colab": {}
      },
      "source": [
        "callbacks3 = [EarlyStopping(monitor='val_loss', mode='min', patience=4, baseline=0.8),\n",
        "         ModelCheckpoint(filepath='best_model3.h5', monitor='val_loss', mode='min', save_best_only=True)]"
      ],
      "execution_count": 0,
      "outputs": []
    },
    {
      "cell_type": "code",
      "metadata": {
        "id": "Q4GD7sihzjKE",
        "colab_type": "code",
        "outputId": "6fb0205a-cc38-41fd-b3ed-500ac6bfcf61",
        "colab": {
          "base_uri": "https://localhost:8080/",
          "height": 349
        }
      },
      "source": [
        "# Fit the model on the batches generated by datagen.flow\n",
        "history3 = my_model3.fit_generator(datagen2.flow(X_train, y_train, batch_size=batch_size),\n",
        "                        steps_per_epoch=X_train.shape[0] // batch_size,\n",
        "                        validation_data=(X_valid, y_valid),\n",
        "                        callbacks=callbacks3,\n",
        "                        epochs=nb_epoch, verbose=1, max_q_size=100)"
      ],
      "execution_count": 31,
      "outputs": [
        {
          "output_type": "stream",
          "text": [
            "/usr/local/lib/python3.6/dist-packages/ipykernel_launcher.py:5: UserWarning: Update your `fit_generator` call to the Keras 2 API: `fit_generator(<keras_pre..., steps_per_epoch=125, validation_data=(array([[[..., callbacks=[<keras.ca..., epochs=20, verbose=1, max_queue_size=100)`\n",
            "  \"\"\"\n"
          ],
          "name": "stderr"
        },
        {
          "output_type": "stream",
          "text": [
            "Epoch 1/20\n",
            "125/125 [==============================] - 21s 170ms/step - loss: 0.3587 - acc: 0.8782 - val_loss: 0.3752 - val_acc: 0.8770\n",
            "Epoch 2/20\n",
            "125/125 [==============================] - 20s 158ms/step - loss: 0.3314 - acc: 0.8792 - val_loss: 0.3548 - val_acc: 0.8730\n",
            "Epoch 3/20\n",
            "125/125 [==============================] - 20s 159ms/step - loss: 0.3105 - acc: 0.8902 - val_loss: 0.3381 - val_acc: 0.8790\n",
            "Epoch 4/20\n",
            "125/125 [==============================] - 20s 160ms/step - loss: 0.2850 - acc: 0.8990 - val_loss: 0.2870 - val_acc: 0.8952\n",
            "Epoch 5/20\n",
            "125/125 [==============================] - 20s 161ms/step - loss: 0.2885 - acc: 0.8930 - val_loss: 0.3478 - val_acc: 0.8851\n",
            "Epoch 6/20\n",
            "125/125 [==============================] - 20s 160ms/step - loss: 0.2802 - acc: 0.9035 - val_loss: 0.2978 - val_acc: 0.8851\n",
            "Epoch 7/20\n",
            "125/125 [==============================] - 20s 160ms/step - loss: 0.2706 - acc: 0.9032 - val_loss: 0.3361 - val_acc: 0.8851\n",
            "Epoch 8/20\n",
            "125/125 [==============================] - 20s 160ms/step - loss: 0.2671 - acc: 0.9025 - val_loss: 0.3040 - val_acc: 0.8710\n"
          ],
          "name": "stdout"
        }
      ]
    },
    {
      "cell_type": "code",
      "metadata": {
        "id": "hqKj93gc0R_f",
        "colab_type": "code",
        "outputId": "7e945a37-aaee-47e2-c0a4-dc17556b8f14",
        "colab": {
          "base_uri": "https://localhost:8080/",
          "height": 299
        }
      },
      "source": [
        "plt.plot(history3.history['acc'], 'bo', label='Training')\n",
        "plt.plot(history3.history['val_acc'], 'b', label='Validation')\n",
        "\n",
        "plt.title('Training and validation accuracy')\n",
        "plt.legend()"
      ],
      "execution_count": 32,
      "outputs": [
        {
          "output_type": "execute_result",
          "data": {
            "text/plain": [
              "<matplotlib.legend.Legend at 0x7f3b55e39f28>"
            ]
          },
          "metadata": {
            "tags": []
          },
          "execution_count": 32
        },
        {
          "output_type": "display_data",
          "data": {
            "image/png": "[encoded data removed]",
            "text/plain": [
              "<Figure size 432x288 with 1 Axes>"
            ]
          },
          "metadata": {
            "tags": []
          }
        }
      ]
    },
    {
      "cell_type": "code",
      "metadata": {
        "id": "8ElgJrVdY1_7",
        "colab_type": "code",
        "colab": {}
      },
      "source": [
        "opt_model3 = load_model('best_model3.h5')"
      ],
      "execution_count": 0,
      "outputs": []
    },
    {
      "cell_type": "code",
      "metadata": {
        "id": "34xAl_1-0VZ4",
        "colab_type": "code",
        "outputId": "9613ac63-b402-4dda-b5c4-08cfc1ed85b9",
        "colab": {
          "base_uri": "https://localhost:8080/",
          "height": 35
        }
      },
      "source": [
        "score3 = opt_model3.evaluate(X_test,y_test)"
      ],
      "execution_count": 34,
      "outputs": [
        {
          "output_type": "stream",
          "text": [
            "504/504 [==============================] - 2s 3ms/step\n"
          ],
          "name": "stdout"
        }
      ]
    },
    {
      "cell_type": "code",
      "metadata": {
        "id": "XQz-Cfa10W7n",
        "colab_type": "code",
        "outputId": "62423e64-079a-4dc0-9cc3-6432637c7148",
        "colab": {
          "base_uri": "https://localhost:8080/",
          "height": 35
        }
      },
      "source": [
        "score3"
      ],
      "execution_count": 35,
      "outputs": [
        {
          "output_type": "execute_result",
          "data": {
            "text/plain": [
              "[0.2360629207558102, 0.9246031746031746]"
            ]
          },
          "metadata": {
            "tags": []
          },
          "execution_count": 35
        }
      ]
    }
  ]
}