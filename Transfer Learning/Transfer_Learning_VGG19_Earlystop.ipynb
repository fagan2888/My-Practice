{
  "nbformat": 4,
  "nbformat_minor": 0,
  "metadata": {
    "colab": {
      "name": "Transfer Learning - VGG19 - Earlystop.ipynb",
      "version": "0.3.2",
      "provenance": [],
      "collapsed_sections": []
    },
    "language_info": {
      "codemirror_mode": {
        "name": "ipython",
        "version": 3
      },
      "file_extension": ".py",
      "mimetype": "text/x-python",
      "name": "python",
      "nbconvert_exporter": "python",
      "pygments_lexer": "ipython3",
      "version": "3.5.2"
    },
    "kernelspec": {
      "display_name": "Python [Root]",
      "language": "python",
      "name": "Python [Root]"
    },
    "accelerator": "GPU"
  },
  "cells": [
    {
      "cell_type": "markdown",
      "metadata": {
        "collapsed": true,
        "id": "enlfTzE3c540",
        "colab_type": "text"
      },
      "source": [
        "## Import the Packages"
      ]
    },
    {
      "cell_type": "code",
      "metadata": {
        "id": "wZ_oHwvUc542",
        "colab_type": "code",
        "colab": {}
      },
      "source": [
        "from keras.layers import Conv2D, MaxPooling2D, Dropout, Flatten, Dense, Activation, Input\n",
        "from keras.models import Sequential, load_model\n",
        "from keras.datasets import mnist\n",
        "from keras.utils import to_categorical\n",
        "from keras.preprocessing.image import ImageDataGenerator\n",
        "from keras import applications\n",
        "from keras.models import Model\n",
        "from keras.callbacks import EarlyStopping, ModelCheckpoint\n",
        "import h5py\n",
        "import numpy as np\n",
        "\n",
        "import matplotlib.pyplot as plt\n",
        "%matplotlib inline"
      ],
      "execution_count": 0,
      "outputs": []
    },
    {
      "cell_type": "markdown",
      "metadata": {
        "collapsed": true,
        "id": "vhqaKYCbc54_",
        "colab_type": "text"
      },
      "source": [
        "## Data Loading"
      ]
    },
    {
      "cell_type": "code",
      "metadata": {
        "id": "_FW651_Mkdab",
        "colab_type": "code",
        "colab": {}
      },
      "source": [
        "from google.colab import auth\n",
        "auth.authenticate_user()"
      ],
      "execution_count": 0,
      "outputs": []
    },
    {
      "cell_type": "code",
      "metadata": {
        "id": "8q7yEHRkkdS9",
        "colab_type": "code",
        "outputId": "3ffea435-4277-43b5-aeb8-b39f379f7e18",
        "colab": {
          "base_uri": "https://localhost:8080/",
          "height": 69
        }
      },
      "source": [
        "!gsutil -m cp gs://deep-nexus/Kather_texture/hdf5_data/train.hdf5 sample_data/"
      ],
      "execution_count": 0,
      "outputs": [
        {
          "output_type": "stream",
          "text": [
            "Copying gs://deep-nexus/Kather_texture/hdf5_data/train.hdf5...\n",
            "/ [1/1 files][257.5 MiB/257.5 MiB] 100% Done                                    \n",
            "Operation completed over 1 objects/257.5 MiB.                                    \n"
          ],
          "name": "stdout"
        }
      ]
    },
    {
      "cell_type": "code",
      "metadata": {
        "id": "32fZOwKqhjvT",
        "colab_type": "code",
        "outputId": "27030e2d-772d-48e2-fbd4-f1d6cc27eceb",
        "colab": {
          "base_uri": "https://localhost:8080/",
          "height": 69
        }
      },
      "source": [
        "!gsutil -m cp gs://deep-nexus/Kather_texture/hdf5_data/test.hdf5 sample_data/"
      ],
      "execution_count": 0,
      "outputs": [
        {
          "output_type": "stream",
          "text": [
            "Copying gs://deep-nexus/Kather_texture/hdf5_data/test.hdf5...\n",
            "- [1/1 files][ 32.5 MiB/ 32.5 MiB] 100% Done                                    \n",
            "Operation completed over 1 objects/32.5 MiB.                                     \n"
          ],
          "name": "stdout"
        }
      ]
    },
    {
      "cell_type": "code",
      "metadata": {
        "id": "LBodK48AmTU-",
        "colab_type": "code",
        "outputId": "b18c48c1-b4d8-4ce6-b84e-7924ac5fc916",
        "colab": {
          "base_uri": "https://localhost:8080/",
          "height": 69
        }
      },
      "source": [
        "!gsutil -m cp gs://deep-nexus/Kather_texture/hdf5_data/valid.hdf5 sample_data/"
      ],
      "execution_count": 0,
      "outputs": [
        {
          "output_type": "stream",
          "text": [
            "Copying gs://deep-nexus/Kather_texture/hdf5_data/valid.hdf5...\n",
            "/ [1/1 files][ 31.9 MiB/ 31.9 MiB] 100% Done                                    \n",
            "Operation completed over 1 objects/31.9 MiB.                                     \n"
          ],
          "name": "stdout"
        }
      ]
    },
    {
      "cell_type": "code",
      "metadata": {
        "id": "CUstZeID067c",
        "colab_type": "code",
        "colab": {}
      },
      "source": [
        "def load_dataset():\n",
        "    train_dataset = h5py.File('sample_data/train.hdf5', \"r\")\n",
        "    X_train = np.array(train_dataset[\"data_x\"][:]) # your train set features\n",
        "    y_train = np.array(train_dataset[\"data_y\"][:]) # your train set labels\n",
        "\n",
        "    valid_dataset = h5py.File('sample_data/valid.hdf5', \"r\")\n",
        "    X_valid = np.array(valid_dataset[\"data_x\"][:]) # your valid set features\n",
        "    y_valid = np.array(valid_dataset[\"data_y\"][:]) # your valid set labels\n",
        "    \n",
        "    test_dataset = h5py.File('sample_data/test.hdf5', \"r\")\n",
        "    X_test = np.array(test_dataset[\"data_x\"][:]) # your test set features\n",
        "    y_test = np.array(test_dataset[\"data_y\"][:]) # your test set labels\n",
        "\n",
        "    classes = np.array(['01_TUMOR','02_STROMA','03_COMPLEX','04_LYMPHO','05_DEBRIS','06_MUCOSA','07_ADIPOSE','08_EMPTY']) # the list of classes\n",
        "\n",
        "    return X_train, y_train, X_valid, y_valid, X_test, y_test, classes"
      ],
      "execution_count": 0,
      "outputs": []
    },
    {
      "cell_type": "code",
      "metadata": {
        "id": "PcmYeXxVvYCV",
        "colab_type": "code",
        "colab": {}
      },
      "source": [
        "X_train, y_train, X_valid, y_valid, X_test, y_test, classes = load_dataset()"
      ],
      "execution_count": 0,
      "outputs": []
    },
    {
      "cell_type": "code",
      "metadata": {
        "id": "ajVZ2VL9uOLi",
        "colab_type": "code",
        "outputId": "c0cd5e7b-a613-4d02-d18e-158b7baba0b4",
        "colab": {
          "base_uri": "https://localhost:8080/",
          "height": 287
        }
      },
      "source": [
        "index = 1000\n",
        "plt.imshow(X_train[index])\n",
        "print (\"y = \" + str(y_train[index]) + \", it's a '\" + classes[y_train[index-1]] +  \"' picture.\")\n"
      ],
      "execution_count": 0,
      "outputs": [
        {
          "output_type": "stream",
          "text": [
            "y = 3, it's a '03_COMPLEX' picture.\n"
          ],
          "name": "stdout"
        },
        {
          "output_type": "display_data",
          "data": {
            "image/png": "[encoded data removed]",
            "text/plain": [
              "<Figure size 432x288 with 1 Axes>"
            ]
          },
          "metadata": {
            "tags": []
          }
        }
      ]
    },
    {
      "cell_type": "code",
      "metadata": {
        "id": "AO7l546Bc55H",
        "colab_type": "code",
        "outputId": "995b2795-8f0b-426a-b04a-86503fd7a1c9",
        "colab": {
          "base_uri": "https://localhost:8080/",
          "height": 121
        }
      },
      "source": [
        "print(X_train.shape)\n",
        "print(y_train.shape)\n",
        "print(X_valid.shape)\n",
        "print(y_valid.shape)\n",
        "print(X_test.shape)\n",
        "print(y_test.shape)"
      ],
      "execution_count": 0,
      "outputs": [
        {
          "output_type": "stream",
          "text": [
            "(4000, 150, 150, 3)\n",
            "(4000,)\n",
            "(496, 150, 150, 3)\n",
            "(496,)\n",
            "(504, 150, 150, 3)\n",
            "(504,)\n"
          ],
          "name": "stdout"
        }
      ]
    },
    {
      "cell_type": "markdown",
      "metadata": {
        "collapsed": true,
        "id": "C7_1mVRoc55Q",
        "colab_type": "text"
      },
      "source": [
        "## Data Pre-processing"
      ]
    },
    {
      "cell_type": "code",
      "metadata": {
        "id": "vTW7_d-_c55U",
        "colab_type": "code",
        "colab": {}
      },
      "source": [
        "# Resizing images to 1-D array to be fit into NN\n",
        "X_train = X_train.reshape(4000, 150, 150, 3)\n",
        "X_valid = X_valid.reshape(496, 150, 150, 3)\n",
        "X_test = X_test.reshape(504, 150, 150, 3)\n",
        "\n",
        "# Converting the data to float type \n",
        "X_train = X_train.astype('float32')\n",
        "X_valid = X_valid.astype('float32')\n",
        "X_test = X_test.astype('float32')\n",
        "\n",
        "# Scaling the data\n",
        "X_train = X_train/255.0\n",
        "X_valid = X_valid/255.0\n",
        "X_test = X_test/255.0\n",
        "\n",
        "num_classes = 8\n",
        "\n",
        "# Converting the output to categorical variables\n",
        "y_train = to_categorical(y_train-1,num_classes)\n",
        "y_valid = to_categorical(y_valid-1,num_classes)\n",
        "y_test = to_categorical(y_test-1, num_classes)"
      ],
      "execution_count": 0,
      "outputs": []
    },
    {
      "cell_type": "code",
      "metadata": {
        "id": "Rq2BqUyWc55a",
        "colab_type": "code",
        "outputId": "83751e4a-2649-44eb-b2ab-dc2cc1557eb1",
        "colab": {
          "base_uri": "https://localhost:8080/",
          "height": 121
        }
      },
      "source": [
        "# Chacking the train, validation and test sets\n",
        "\n",
        "print(X_train.shape)\n",
        "print(y_train.shape)\n",
        "print(X_valid.shape)\n",
        "print(y_valid.shape)\n",
        "print(X_test.shape)\n",
        "print(y_test.shape)"
      ],
      "execution_count": 0,
      "outputs": [
        {
          "output_type": "stream",
          "text": [
            "(4000, 150, 150, 3)\n",
            "(4000, 8)\n",
            "(496, 150, 150, 3)\n",
            "(496, 8)\n",
            "(504, 150, 150, 3)\n",
            "(504, 8)\n"
          ],
          "name": "stdout"
        }
      ]
    },
    {
      "cell_type": "markdown",
      "metadata": {
        "collapsed": true,
        "id": "93T40_tAc55n",
        "colab_type": "text"
      },
      "source": [
        "## Create and Compile the VGG19 Model"
      ]
    },
    {
      "cell_type": "code",
      "metadata": {
        "id": "8Vm9E2WE83Cf",
        "colab_type": "code",
        "outputId": "5f1bf62f-a7b0-4142-86a9-473c38e3623d",
        "colab": {
          "base_uri": "https://localhost:8080/",
          "height": 1000
        }
      },
      "source": [
        "# LOAD VGG19\n",
        "input_tensor = Input(shape=(150,150,3))\n",
        "model_vgg19_conv = applications.VGG19(weights='imagenet', \n",
        "                           include_top=False,\n",
        "                           input_tensor=input_tensor)\n",
        "model_vgg19_conv.summary()"
      ],
      "execution_count": 0,
      "outputs": [
        {
          "output_type": "stream",
          "text": [
            "WARNING: Logging before flag parsing goes to stderr.\n",
            "W0813 22:06:03.155486 140205142775680 deprecation_wrapper.py:119] From /usr/local/lib/python3.6/dist-packages/keras/backend/tensorflow_backend.py:74: The name tf.get_default_graph is deprecated. Please use tf.compat.v1.get_default_graph instead.\n",
            "\n",
            "W0813 22:06:03.194602 140205142775680 deprecation_wrapper.py:119] From /usr/local/lib/python3.6/dist-packages/keras/backend/tensorflow_backend.py:517: The name tf.placeholder is deprecated. Please use tf.compat.v1.placeholder instead.\n",
            "\n",
            "W0813 22:06:03.202436 140205142775680 deprecation_wrapper.py:119] From /usr/local/lib/python3.6/dist-packages/keras/backend/tensorflow_backend.py:4138: The name tf.random_uniform is deprecated. Please use tf.random.uniform instead.\n",
            "\n",
            "W0813 22:06:03.243682 140205142775680 deprecation_wrapper.py:119] From /usr/local/lib/python3.6/dist-packages/keras/backend/tensorflow_backend.py:3976: The name tf.nn.max_pool is deprecated. Please use tf.nn.max_pool2d instead.\n",
            "\n"
          ],
          "name": "stderr"
        },
        {
          "output_type": "stream",
          "text": [
            "Downloading data from https://github.com/fchollet/deep-learning-models/releases/download/v0.1/vgg19_weights_tf_dim_ordering_tf_kernels_notop.h5\n",
            "80142336/80134624 [==============================] - 3s 0us/step\n"
          ],
          "name": "stdout"
        },
        {
          "output_type": "stream",
          "text": [
            "W0813 22:06:06.648260 140205142775680 deprecation_wrapper.py:119] From /usr/local/lib/python3.6/dist-packages/keras/backend/tensorflow_backend.py:174: The name tf.get_default_session is deprecated. Please use tf.compat.v1.get_default_session instead.\n",
            "\n",
            "W0813 22:06:06.653332 140205142775680 deprecation_wrapper.py:119] From /usr/local/lib/python3.6/dist-packages/keras/backend/tensorflow_backend.py:181: The name tf.ConfigProto is deprecated. Please use tf.compat.v1.ConfigProto instead.\n",
            "\n"
          ],
          "name": "stderr"
        },
        {
          "output_type": "stream",
          "text": [
            "_________________________________________________________________\n",
            "Layer (type)                 Output Shape              Param #   \n",
            "=================================================================\n",
            "input_1 (InputLayer)         (None, 150, 150, 3)       0         \n",
            "_________________________________________________________________\n",
            "block1_conv1 (Conv2D)        (None, 150, 150, 64)      1792      \n",
            "_________________________________________________________________\n",
            "block1_conv2 (Conv2D)        (None, 150, 150, 64)      36928     \n",
            "_________________________________________________________________\n",
            "block1_pool (MaxPooling2D)   (None, 75, 75, 64)        0         \n",
            "_________________________________________________________________\n",
            "block2_conv1 (Conv2D)        (None, 75, 75, 128)       73856     \n",
            "_________________________________________________________________\n",
            "block2_conv2 (Conv2D)        (None, 75, 75, 128)       147584    \n",
            "_________________________________________________________________\n",
            "block2_pool (MaxPooling2D)   (None, 37, 37, 128)       0         \n",
            "_________________________________________________________________\n",
            "block3_conv1 (Conv2D)        (None, 37, 37, 256)       295168    \n",
            "_________________________________________________________________\n",
            "block3_conv2 (Conv2D)        (None, 37, 37, 256)       590080    \n",
            "_________________________________________________________________\n",
            "block3_conv3 (Conv2D)        (None, 37, 37, 256)       590080    \n",
            "_________________________________________________________________\n",
            "block3_conv4 (Conv2D)        (None, 37, 37, 256)       590080    \n",
            "_________________________________________________________________\n",
            "block3_pool (MaxPooling2D)   (None, 18, 18, 256)       0         \n",
            "_________________________________________________________________\n",
            "block4_conv1 (Conv2D)        (None, 18, 18, 512)       1180160   \n",
            "_________________________________________________________________\n",
            "block4_conv2 (Conv2D)        (None, 18, 18, 512)       2359808   \n",
            "_________________________________________________________________\n",
            "block4_conv3 (Conv2D)        (None, 18, 18, 512)       2359808   \n",
            "_________________________________________________________________\n",
            "block4_conv4 (Conv2D)        (None, 18, 18, 512)       2359808   \n",
            "_________________________________________________________________\n",
            "block4_pool (MaxPooling2D)   (None, 9, 9, 512)         0         \n",
            "_________________________________________________________________\n",
            "block5_conv1 (Conv2D)        (None, 9, 9, 512)         2359808   \n",
            "_________________________________________________________________\n",
            "block5_conv2 (Conv2D)        (None, 9, 9, 512)         2359808   \n",
            "_________________________________________________________________\n",
            "block5_conv3 (Conv2D)        (None, 9, 9, 512)         2359808   \n",
            "_________________________________________________________________\n",
            "block5_conv4 (Conv2D)        (None, 9, 9, 512)         2359808   \n",
            "_________________________________________________________________\n",
            "block5_pool (MaxPooling2D)   (None, 4, 4, 512)         0         \n",
            "=================================================================\n",
            "Total params: 20,024,384\n",
            "Trainable params: 20,024,384\n",
            "Non-trainable params: 0\n",
            "_________________________________________________________________\n"
          ],
          "name": "stdout"
        }
      ]
    },
    {
      "cell_type": "markdown",
      "metadata": {
        "id": "Y1-JXDuRcjoH",
        "colab_type": "text"
      },
      "source": [
        "Reference link: https://www.analyticsvidhya.com/blog/2017/06/transfer-learning-the-art-of-fine-tuning-a-pre-trained-model/"
      ]
    },
    {
      "cell_type": "code",
      "metadata": {
        "id": "4T0IiRjQFJPy",
        "colab_type": "code",
        "outputId": "377b6ca2-0339-4531-97ab-9e0ff40b2353",
        "colab": {
          "base_uri": "https://localhost:8080/",
          "height": 419
        }
      },
      "source": [
        "# Make vgg19 model layers as non trainable\n",
        "for layer in model_vgg19_conv.layers:\n",
        "    layer.trainable = False\n",
        "\n",
        "# Create our own input format\n",
        "input = Input(shape=(150,150,3),name = 'image_input')   \n",
        "\n",
        "# Use the generated model \n",
        "output_vgg19_conv = model_vgg19_conv(input)\n",
        "\n",
        "# Add the flatten layer and output layer\n",
        "x = Flatten(name='flatten')(output_vgg19_conv)\n",
        "x = Dense(512, activation='relu', name='fc1')(x)\n",
        "x = Dense(128, activation='relu', name='fc2')(x)\n",
        "x = Dense(8, activation='softmax', name='predictions')(x)\n",
        "\n",
        "# Create our own model\n",
        "my_model1 = Model(input=input, output=x)\n",
        "my_model1.summary()\n",
        "my_model1.compile(loss='categorical_crossentropy',\n",
        "              optimizer='adam',\n",
        "              metrics=['accuracy'])"
      ],
      "execution_count": 0,
      "outputs": [
        {
          "output_type": "stream",
          "text": [
            "/usr/local/lib/python3.6/dist-packages/ipykernel_launcher.py:17: UserWarning: Update your `Model` call to the Keras 2 API: `Model(inputs=Tensor(\"im..., outputs=Tensor(\"pr...)`\n",
            "W0813 22:06:10.425937 140205142775680 deprecation_wrapper.py:119] From /usr/local/lib/python3.6/dist-packages/keras/optimizers.py:790: The name tf.train.Optimizer is deprecated. Please use tf.compat.v1.train.Optimizer instead.\n",
            "\n"
          ],
          "name": "stderr"
        },
        {
          "output_type": "stream",
          "text": [
            "_________________________________________________________________\n",
            "Layer (type)                 Output Shape              Param #   \n",
            "=================================================================\n",
            "image_input (InputLayer)     (None, 150, 150, 3)       0         \n",
            "_________________________________________________________________\n",
            "vgg19 (Model)                (None, 4, 4, 512)         20024384  \n",
            "_________________________________________________________________\n",
            "flatten (Flatten)            (None, 8192)              0         \n",
            "_________________________________________________________________\n",
            "fc1 (Dense)                  (None, 512)               4194816   \n",
            "_________________________________________________________________\n",
            "fc2 (Dense)                  (None, 128)               65664     \n",
            "_________________________________________________________________\n",
            "predictions (Dense)          (None, 8)                 1032      \n",
            "=================================================================\n",
            "Total params: 24,285,896\n",
            "Trainable params: 4,261,512\n",
            "Non-trainable params: 20,024,384\n",
            "_________________________________________________________________\n"
          ],
          "name": "stdout"
        }
      ]
    },
    {
      "cell_type": "markdown",
      "metadata": {
        "id": "O03XgWQYSO_l",
        "colab_type": "text"
      },
      "source": [
        "## Model Without Data Augmentation"
      ]
    },
    {
      "cell_type": "code",
      "metadata": {
        "id": "XO7E_g_3OP4b",
        "colab_type": "code",
        "colab": {}
      },
      "source": [
        "callbacks1 = [EarlyStopping(monitor='val_loss', mode='min', patience=4, baseline=0.8),\n",
        "         ModelCheckpoint(filepath='best_model1.h5', monitor='val_loss', mode='min', save_best_only=True)]"
      ],
      "execution_count": 0,
      "outputs": []
    },
    {
      "cell_type": "code",
      "metadata": {
        "id": "aWleZYwKL4go",
        "colab_type": "code",
        "outputId": "77f1f3b7-8fcd-4eb9-b734-3028f6fdda35",
        "colab": {
          "base_uri": "https://localhost:8080/",
          "height": 208
        }
      },
      "source": [
        "batch_size = 32\n",
        "nb_classes = 8\n",
        "nb_epoch = 20\n",
        "\n",
        "# fit the model\n",
        "history1 = my_model1.fit(X_train, y_train,\n",
        "           batch_size=batch_size,\n",
        "           epochs=nb_epoch,\n",
        "           callbacks=callbacks1,\n",
        "           validation_data=(X_valid, y_valid))"
      ],
      "execution_count": 0,
      "outputs": [
        {
          "output_type": "stream",
          "text": [
            "Train on 4000 samples, validate on 496 samples\n",
            "Epoch 1/20\n",
            "4000/4000 [==============================] - 14s 3ms/step - loss: 0.0361 - acc: 0.9918 - val_loss: 0.4536 - val_acc: 0.8750\n",
            "Epoch 2/20\n",
            "4000/4000 [==============================] - 14s 3ms/step - loss: 0.0503 - acc: 0.9835 - val_loss: 0.6002 - val_acc: 0.8407\n",
            "Epoch 3/20\n",
            "4000/4000 [==============================] - 14s 4ms/step - loss: 0.1217 - acc: 0.9560 - val_loss: 0.7743 - val_acc: 0.8266\n",
            "Epoch 4/20\n",
            "4000/4000 [==============================] - 14s 4ms/step - loss: 0.0904 - acc: 0.9685 - val_loss: 0.5481 - val_acc: 0.8730\n",
            "Epoch 5/20\n",
            "4000/4000 [==============================] - 14s 4ms/step - loss: 0.0526 - acc: 0.9822 - val_loss: 0.6558 - val_acc: 0.8448\n"
          ],
          "name": "stdout"
        }
      ]
    },
    {
      "cell_type": "code",
      "metadata": {
        "id": "LMweHFpmTICj",
        "colab_type": "code",
        "outputId": "86966b81-33be-4579-e480-b3cb37a04933",
        "colab": {
          "base_uri": "https://localhost:8080/",
          "height": 299
        }
      },
      "source": [
        "plt.plot(history1.history['acc'], 'bo', label='Training')\n",
        "plt.plot(history1.history['val_acc'], 'b', label='Validation')\n",
        "\n",
        "plt.title('Training and validation accuracy')\n",
        "plt.legend()"
      ],
      "execution_count": 0,
      "outputs": [
        {
          "output_type": "execute_result",
          "data": {
            "text/plain": [
              "<matplotlib.legend.Legend at 0x7f817ce76710>"
            ]
          },
          "metadata": {
            "tags": []
          },
          "execution_count": 49
        },
        {
          "output_type": "display_data",
          "data": {
            "image/png": "[encoded data removed]",
            "text/plain": [
              "<Figure size 432x288 with 1 Axes>"
            ]
          },
          "metadata": {
            "tags": []
          }
        }
      ]
    },
    {
      "cell_type": "code",
      "metadata": {
        "id": "aGVTfamuCDUL",
        "colab_type": "code",
        "colab": {}
      },
      "source": [
        "opt_model1 = load_model('best_model1.h5')"
      ],
      "execution_count": 0,
      "outputs": []
    },
    {
      "cell_type": "code",
      "metadata": {
        "id": "hDz-HkMQUAfx",
        "colab_type": "code",
        "outputId": "b7cf74c0-fd3f-4a53-ad1f-ab04e1559d1f",
        "colab": {
          "base_uri": "https://localhost:8080/",
          "height": 35
        }
      },
      "source": [
        "score1 = opt_model1.evaluate(X_test,y_test)"
      ],
      "execution_count": 0,
      "outputs": [
        {
          "output_type": "stream",
          "text": [
            "504/504 [==============================] - 2s 3ms/step\n"
          ],
          "name": "stdout"
        }
      ]
    },
    {
      "cell_type": "code",
      "metadata": {
        "id": "DYEoCROJq7T-",
        "colab_type": "code",
        "outputId": "0c96c4c5-6267-477d-da05-ebc44d6901e4",
        "colab": {
          "base_uri": "https://localhost:8080/",
          "height": 35
        }
      },
      "source": [
        "score1"
      ],
      "execution_count": 0,
      "outputs": [
        {
          "output_type": "execute_result",
          "data": {
            "text/plain": [
              "[0.38810507444265696, 0.8948412698412699]"
            ]
          },
          "metadata": {
            "tags": []
          },
          "execution_count": 55
        }
      ]
    },
    {
      "cell_type": "markdown",
      "metadata": {
        "id": "mNX8LJ9-NJ-G",
        "colab_type": "text"
      },
      "source": [
        "## Model with Data Augmentation"
      ]
    },
    {
      "cell_type": "markdown",
      "metadata": {
        "id": "uhKgOV7PzKQO",
        "colab_type": "text"
      },
      "source": [
        "### Aug1"
      ]
    },
    {
      "cell_type": "code",
      "metadata": {
        "id": "BCUHebgh3drp",
        "colab_type": "code",
        "outputId": "416531b3-ebe7-4df5-9418-aeb7575cfc03",
        "colab": {
          "base_uri": "https://localhost:8080/",
          "height": 72
        }
      },
      "source": [
        "my_model2 = Model(input=input, output=x)\n",
        "my_model2.compile(loss='categorical_crossentropy',\n",
        "              optimizer='adam',\n",
        "              metrics=['accuracy'])"
      ],
      "execution_count": 0,
      "outputs": [
        {
          "output_type": "stream",
          "text": [
            "/usr/local/lib/python3.6/dist-packages/ipykernel_launcher.py:1: UserWarning: Update your `Model` call to the Keras 2 API: `Model(inputs=Tensor(\"im..., outputs=Tensor(\"pr...)`\n",
            "  \"\"\"Entry point for launching an IPython kernel.\n"
          ],
          "name": "stderr"
        }
      ]
    },
    {
      "cell_type": "code",
      "metadata": {
        "id": "tkCBYV2yOvrH",
        "colab_type": "code",
        "colab": {}
      },
      "source": [
        "# Compute quantities required for featurewise normalization\n",
        "# (std, mean, and principal components if ZCA whitening is applied).\n",
        "datagen1 = ImageDataGenerator(\n",
        "        featurewise_center=False,  # set input mean to 0 over the dataset\n",
        "        samplewise_center=False,  # set each sample mean to 0\n",
        "        featurewise_std_normalization=False,  # divide inputs by std of the dataset\n",
        "        samplewise_std_normalization=False,  # divide each input by its std\n",
        "        zca_whitening=False,  # apply ZCA whitening\n",
        "        rotation_range=0,  # randomly rotate images in the range (degrees, 0 to 180)\n",
        "        width_shift_range=0.1,  # randomly shift images horizontally (fraction of total width)\n",
        "        height_shift_range=0.1,  # randomly shift images vertically (fraction of total height)\n",
        "        horizontal_flip=True,  # randomly flip images\n",
        "        vertical_flip=False)  # randomly flip images\n",
        "datagen1.fit(X_train)"
      ],
      "execution_count": 0,
      "outputs": []
    },
    {
      "cell_type": "code",
      "metadata": {
        "id": "VUzVtPd8VvMX",
        "colab_type": "code",
        "colab": {}
      },
      "source": [
        "callbacks2 = [EarlyStopping(monitor='val_loss', mode='min', patience=4, baseline=0.8),\n",
        "         ModelCheckpoint(filepath='best_model2.h5', monitor='val_loss', mode='min', save_best_only=True)]"
      ],
      "execution_count": 0,
      "outputs": []
    },
    {
      "cell_type": "code",
      "metadata": {
        "id": "M0HmrfQtN58I",
        "colab_type": "code",
        "outputId": "fcc42b66-9846-4219-9a3e-780ff8c7cbda",
        "colab": {
          "base_uri": "https://localhost:8080/",
          "height": 488
        }
      },
      "source": [
        "# Fit the model on the batches generated by datagen.flow\n",
        "history2 = my_model2.fit_generator(datagen1.flow(X_train, y_train, batch_size=batch_size),\n",
        "                        steps_per_epoch=X_train.shape[0] // batch_size,\n",
        "                        validation_data=(X_valid, y_valid),\n",
        "                        callbacks=callbacks2,\n",
        "                        epochs=nb_epoch, verbose=1, max_q_size=100)"
      ],
      "execution_count": 0,
      "outputs": [
        {
          "output_type": "stream",
          "text": [
            "/usr/local/lib/python3.6/dist-packages/ipykernel_launcher.py:5: UserWarning: Update your `fit_generator` call to the Keras 2 API: `fit_generator(<keras_pre..., steps_per_epoch=125, validation_data=(array([[[..., callbacks=[<keras.ca..., epochs=20, verbose=1, max_queue_size=100)`\n",
            "  \"\"\"\n"
          ],
          "name": "stderr"
        },
        {
          "output_type": "stream",
          "text": [
            "Epoch 1/20\n",
            "125/125 [==============================] - 21s 171ms/step - loss: 0.3703 - acc: 0.8772 - val_loss: 0.4074 - val_acc: 0.8629\n",
            "Epoch 2/20\n",
            "125/125 [==============================] - 20s 162ms/step - loss: 0.2961 - acc: 0.8925 - val_loss: 0.4344 - val_acc: 0.8427\n",
            "Epoch 3/20\n",
            "125/125 [==============================] - 21s 165ms/step - loss: 0.3178 - acc: 0.8900 - val_loss: 0.3914 - val_acc: 0.8569\n",
            "Epoch 4/20\n",
            "125/125 [==============================] - 21s 167ms/step - loss: 0.2577 - acc: 0.9070 - val_loss: 0.3625 - val_acc: 0.8831\n",
            "Epoch 5/20\n",
            "125/125 [==============================] - 21s 167ms/step - loss: 0.2536 - acc: 0.9073 - val_loss: 0.3660 - val_acc: 0.8790\n",
            "Epoch 6/20\n",
            "125/125 [==============================] - 21s 164ms/step - loss: 0.2587 - acc: 0.9070 - val_loss: 0.4705 - val_acc: 0.8327\n",
            "Epoch 7/20\n",
            "125/125 [==============================] - 20s 164ms/step - loss: 0.2603 - acc: 0.9065 - val_loss: 0.3661 - val_acc: 0.8589\n",
            "Epoch 8/20\n",
            "125/125 [==============================] - 20s 164ms/step - loss: 0.2146 - acc: 0.9248 - val_loss: 0.3291 - val_acc: 0.8750\n",
            "Epoch 9/20\n",
            "125/125 [==============================] - 20s 163ms/step - loss: 0.2138 - acc: 0.9250 - val_loss: 0.3560 - val_acc: 0.8750\n",
            "Epoch 10/20\n",
            "125/125 [==============================] - 20s 162ms/step - loss: 0.2160 - acc: 0.9265 - val_loss: 0.4461 - val_acc: 0.8448\n",
            "Epoch 11/20\n",
            "125/125 [==============================] - 20s 163ms/step - loss: 0.2020 - acc: 0.9278 - val_loss: 0.3857 - val_acc: 0.8710\n",
            "Epoch 12/20\n",
            "125/125 [==============================] - 20s 163ms/step - loss: 0.1939 - acc: 0.9290 - val_loss: 0.3387 - val_acc: 0.8851\n"
          ],
          "name": "stdout"
        }
      ]
    },
    {
      "cell_type": "code",
      "metadata": {
        "id": "Kv26M_irc57O",
        "colab_type": "code",
        "outputId": "101d4c2e-5e81-47b4-8738-baaadffce62c",
        "colab": {
          "base_uri": "https://localhost:8080/",
          "height": 299
        }
      },
      "source": [
        "plt.plot(history2.history['acc'], 'bo', label='Training')\n",
        "plt.plot(history2.history['val_acc'], 'b', label='Validation')\n",
        "\n",
        "plt.title('Training and validation accuracy')\n",
        "plt.legend()"
      ],
      "execution_count": 0,
      "outputs": [
        {
          "output_type": "execute_result",
          "data": {
            "text/plain": [
              "<matplotlib.legend.Legend at 0x7f8179a4d518>"
            ]
          },
          "metadata": {
            "tags": []
          },
          "execution_count": 61
        },
        {
          "output_type": "display_data",
          "data": {
            "image/png": "[encoded data removed]",
            "text/plain": [
              "<Figure size 432x288 with 1 Axes>"
            ]
          },
          "metadata": {
            "tags": []
          }
        }
      ]
    },
    {
      "cell_type": "code",
      "metadata": {
        "id": "PIBlFgKyWLL3",
        "colab_type": "code",
        "colab": {}
      },
      "source": [
        "opt_model2 = load_model('best_model2.h5')"
      ],
      "execution_count": 0,
      "outputs": []
    },
    {
      "cell_type": "code",
      "metadata": {
        "id": "GhIHjMcjc57c",
        "colab_type": "code",
        "outputId": "5bcb004e-7873-46ee-c278-1aa1e2c87dae",
        "colab": {
          "base_uri": "https://localhost:8080/",
          "height": 35
        }
      },
      "source": [
        "score2 = opt_model2.evaluate(X_test,y_test)"
      ],
      "execution_count": 0,
      "outputs": [
        {
          "output_type": "stream",
          "text": [
            "504/504 [==============================] - 2s 4ms/step\n"
          ],
          "name": "stdout"
        }
      ]
    },
    {
      "cell_type": "code",
      "metadata": {
        "id": "lAGzdl2cc57h",
        "colab_type": "code",
        "outputId": "efd5faac-7617-4a22-f040-69ed12a3bbb1",
        "colab": {
          "base_uri": "https://localhost:8080/",
          "height": 35
        }
      },
      "source": [
        "score2"
      ],
      "execution_count": 0,
      "outputs": [
        {
          "output_type": "execute_result",
          "data": {
            "text/plain": [
              "[0.3052058939541143, 0.9047619047619048]"
            ]
          },
          "metadata": {
            "tags": []
          },
          "execution_count": 64
        }
      ]
    },
    {
      "cell_type": "markdown",
      "metadata": {
        "id": "oJIqJ96HzPVH",
        "colab_type": "text"
      },
      "source": [
        "### Aug2"
      ]
    },
    {
      "cell_type": "code",
      "metadata": {
        "id": "4v9W1Z6h3gtb",
        "colab_type": "code",
        "outputId": "244d71ae-5980-47aa-c905-4486018b0950",
        "colab": {
          "base_uri": "https://localhost:8080/",
          "height": 72
        }
      },
      "source": [
        "my_model3 = Model(input=input, output=x)\n",
        "my_model3.compile(loss='categorical_crossentropy',\n",
        "              optimizer='adam',\n",
        "              metrics=['accuracy'])"
      ],
      "execution_count": 0,
      "outputs": [
        {
          "output_type": "stream",
          "text": [
            "/usr/local/lib/python3.6/dist-packages/ipykernel_launcher.py:1: UserWarning: Update your `Model` call to the Keras 2 API: `Model(inputs=Tensor(\"im..., outputs=Tensor(\"pr...)`\n",
            "  \"\"\"Entry point for launching an IPython kernel.\n"
          ],
          "name": "stderr"
        }
      ]
    },
    {
      "cell_type": "code",
      "metadata": {
        "id": "tsTxBJEZzQ99",
        "colab_type": "code",
        "colab": {}
      },
      "source": [
        "# Compute quantities required for featurewise normalization\n",
        "# (std, mean, and principal components if ZCA whitening is applied).\n",
        "datagen2 = ImageDataGenerator(\n",
        "        featurewise_center=False,  # set input mean to 0 over the dataset\n",
        "        samplewise_center=False,  # set each sample mean to 0\n",
        "        featurewise_std_normalization=False,  # divide inputs by std of the dataset\n",
        "        samplewise_std_normalization=False,  # divide each input by its std\n",
        "        zca_whitening=False,  # apply ZCA whitening\n",
        "        rotation_range=45,  # randomly rotate images in the range (degrees, 0 to 180)\n",
        "        width_shift_range=0.1,  # randomly shift images horizontally (fraction of total width)\n",
        "        height_shift_range=0.1,  # randomly shift images vertically (fraction of total height)\n",
        "        horizontal_flip=True,  # randomly flip images\n",
        "        vertical_flip=True)  # randomly flip images\n",
        "datagen2.fit(X_train)"
      ],
      "execution_count": 0,
      "outputs": []
    },
    {
      "cell_type": "code",
      "metadata": {
        "id": "DpuJPVEXYowC",
        "colab_type": "code",
        "colab": {}
      },
      "source": [
        "callbacks3 = [EarlyStopping(monitor='val_loss', mode='min', patience=4, baseline=0.8),\n",
        "         ModelCheckpoint(filepath='best_model3.h5', monitor='val_loss', mode='min', save_best_only=True)]"
      ],
      "execution_count": 0,
      "outputs": []
    },
    {
      "cell_type": "code",
      "metadata": {
        "id": "Q4GD7sihzjKE",
        "colab_type": "code",
        "outputId": "d7599e53-b4d0-4068-d018-b8ed7ae8ff7f",
        "colab": {
          "base_uri": "https://localhost:8080/",
          "height": 315
        }
      },
      "source": [
        "# Fit the model on the batches generated by datagen.flow\n",
        "history3 = my_model3.fit_generator(datagen2.flow(X_train, y_train, batch_size=batch_size),\n",
        "                        steps_per_epoch=X_train.shape[0] // batch_size,\n",
        "                        validation_data=(X_valid, y_valid),\n",
        "                        callbacks=callbacks3,\n",
        "                        epochs=nb_epoch, verbose=1, max_q_size=100)"
      ],
      "execution_count": 0,
      "outputs": [
        {
          "output_type": "stream",
          "text": [
            "/usr/local/lib/python3.6/dist-packages/ipykernel_launcher.py:5: UserWarning: Update your `fit_generator` call to the Keras 2 API: `fit_generator(<keras_pre..., steps_per_epoch=125, validation_data=(array([[[..., callbacks=[<keras.ca..., epochs=20, verbose=1, max_queue_size=100)`\n",
            "  \"\"\"\n"
          ],
          "name": "stderr"
        },
        {
          "output_type": "stream",
          "text": [
            "Epoch 1/20\n",
            "125/125 [==============================] - 22s 177ms/step - loss: 0.3488 - acc: 0.8732 - val_loss: 0.3832 - val_acc: 0.8730\n",
            "Epoch 2/20\n",
            "125/125 [==============================] - 21s 165ms/step - loss: 0.3255 - acc: 0.8808 - val_loss: 0.4129 - val_acc: 0.8347\n",
            "Epoch 3/20\n",
            "125/125 [==============================] - 21s 169ms/step - loss: 0.3413 - acc: 0.8728 - val_loss: 0.3095 - val_acc: 0.8992\n",
            "Epoch 4/20\n",
            "125/125 [==============================] - 21s 171ms/step - loss: 0.3122 - acc: 0.8847 - val_loss: 0.3597 - val_acc: 0.8730\n",
            "Epoch 5/20\n",
            "125/125 [==============================] - 21s 168ms/step - loss: 0.3126 - acc: 0.8880 - val_loss: 0.3123 - val_acc: 0.8952\n",
            "Epoch 6/20\n",
            "125/125 [==============================] - 21s 168ms/step - loss: 0.3132 - acc: 0.8868 - val_loss: 0.3492 - val_acc: 0.8730\n",
            "Epoch 7/20\n",
            "125/125 [==============================] - 21s 168ms/step - loss: 0.3092 - acc: 0.8935 - val_loss: 0.3239 - val_acc: 0.8810\n"
          ],
          "name": "stdout"
        }
      ]
    },
    {
      "cell_type": "code",
      "metadata": {
        "id": "hqKj93gc0R_f",
        "colab_type": "code",
        "outputId": "faa68411-57d9-44a4-ef08-8ab8ee12e636",
        "colab": {
          "base_uri": "https://localhost:8080/",
          "height": 299
        }
      },
      "source": [
        "plt.plot(history3.history['acc'], 'bo', label='Training')\n",
        "plt.plot(history3.history['val_acc'], 'b', label='Validation')\n",
        "\n",
        "plt.title('Training and validation accuracy')\n",
        "plt.legend()"
      ],
      "execution_count": 0,
      "outputs": [
        {
          "output_type": "execute_result",
          "data": {
            "text/plain": [
              "<matplotlib.legend.Legend at 0x7f817bb35940>"
            ]
          },
          "metadata": {
            "tags": []
          },
          "execution_count": 69
        },
        {
          "output_type": "display_data",
          "data": {
            "image/png": "[encoded data removed]",
            "text/plain": [
              "<Figure size 432x288 with 1 Axes>"
            ]
          },
          "metadata": {
            "tags": []
          }
        }
      ]
    },
    {
      "cell_type": "code",
      "metadata": {
        "id": "8ElgJrVdY1_7",
        "colab_type": "code",
        "colab": {}
      },
      "source": [
        "opt_model3 = load_model('best_model3.h5')"
      ],
      "execution_count": 0,
      "outputs": []
    },
    {
      "cell_type": "code",
      "metadata": {
        "id": "34xAl_1-0VZ4",
        "colab_type": "code",
        "outputId": "796bfeb1-7dfb-40f2-b13a-d7720b35b16f",
        "colab": {
          "base_uri": "https://localhost:8080/",
          "height": 35
        }
      },
      "source": [
        "score3 = opt_model3.evaluate(X_test,y_test)"
      ],
      "execution_count": 0,
      "outputs": [
        {
          "output_type": "stream",
          "text": [
            "504/504 [==============================] - 2s 4ms/step\n"
          ],
          "name": "stdout"
        }
      ]
    },
    {
      "cell_type": "code",
      "metadata": {
        "id": "XQz-Cfa10W7n",
        "colab_type": "code",
        "outputId": "8f558428-325e-486c-827d-f22dfcfbc9e8",
        "colab": {
          "base_uri": "https://localhost:8080/",
          "height": 35
        }
      },
      "source": [
        "score3"
      ],
      "execution_count": 0,
      "outputs": [
        {
          "output_type": "execute_result",
          "data": {
            "text/plain": [
              "[0.3062398989707054, 0.8809523809523809]"
            ]
          },
          "metadata": {
            "tags": []
          },
          "execution_count": 72
        }
      ]
    }
  ]
}