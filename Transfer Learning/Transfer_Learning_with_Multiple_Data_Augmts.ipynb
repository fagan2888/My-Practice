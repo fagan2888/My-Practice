{
  "nbformat": 4,
  "nbformat_minor": 0,
  "metadata": {
    "colab": {
      "name": "Transfer Learning - VGG16 - Multiple Data Augmts.ipynb",
      "version": "0.3.2",
      "provenance": [],
      "collapsed_sections": [
        "enlfTzE3c540",
        "vhqaKYCbc54_",
        "C7_1mVRoc55Q",
        "93T40_tAc55n",
        "O03XgWQYSO_l",
        "uhKgOV7PzKQO",
        "oJIqJ96HzPVH",
        "T-HcDAKranOd",
        "9LwZx4Z2fJRy",
        "A40XBQIckhtT"
      ]
    },
    "language_info": {
      "codemirror_mode": {
        "name": "ipython",
        "version": 3
      },
      "file_extension": ".py",
      "mimetype": "text/x-python",
      "name": "python",
      "nbconvert_exporter": "python",
      "pygments_lexer": "ipython3",
      "version": "3.5.2"
    },
    "kernelspec": {
      "display_name": "Python [Root]",
      "language": "python",
      "name": "Python [Root]"
    },
    "accelerator": "GPU"
  },
  "cells": [
    {
      "cell_type": "markdown",
      "metadata": {
        "collapsed": true,
        "id": "enlfTzE3c540",
        "colab_type": "text"
      },
      "source": [
        "## Import the Packages"
      ]
    },
    {
      "cell_type": "code",
      "metadata": {
        "id": "wZ_oHwvUc542",
        "colab_type": "code",
        "outputId": "bd7d7c9f-082d-4f18-a0aa-a2cebdc5b02c",
        "colab": {
          "base_uri": "https://localhost:8080/",
          "height": 35
        }
      },
      "source": [
        "from keras.layers import Conv2D, MaxPooling2D, Dropout, Flatten, Dense, Activation, Input\n",
        "from keras.models import Sequential, load_model\n",
        "from keras.datasets import mnist\n",
        "from keras.utils import to_categorical\n",
        "from keras.preprocessing.image import ImageDataGenerator\n",
        "from keras import applications\n",
        "from keras.models import Model\n",
        "from keras.callbacks import EarlyStopping, ModelCheckpoint\n",
        "import h5py\n",
        "import numpy as np\n",
        "\n",
        "import matplotlib.pyplot as plt\n",
        "%matplotlib inline"
      ],
      "execution_count": 0,
      "outputs": [
        {
          "output_type": "stream",
          "text": [
            "Using TensorFlow backend.\n"
          ],
          "name": "stderr"
        }
      ]
    },
    {
      "cell_type": "markdown",
      "metadata": {
        "collapsed": true,
        "id": "vhqaKYCbc54_",
        "colab_type": "text"
      },
      "source": [
        "## Data Loading"
      ]
    },
    {
      "cell_type": "code",
      "metadata": {
        "id": "_FW651_Mkdab",
        "colab_type": "code",
        "colab": {}
      },
      "source": [
        "from google.colab import auth\n",
        "auth.authenticate_user()"
      ],
      "execution_count": 0,
      "outputs": []
    },
    {
      "cell_type": "code",
      "metadata": {
        "id": "8q7yEHRkkdS9",
        "colab_type": "code",
        "outputId": "4c9da365-223e-4f72-ad4a-169758061524",
        "colab": {
          "base_uri": "https://localhost:8080/",
          "height": 69
        }
      },
      "source": [
        "!gsutil -m cp gs://deep-nexus/Kather_texture/hdf5_data/train.hdf5 sample_data/"
      ],
      "execution_count": 0,
      "outputs": [
        {
          "output_type": "stream",
          "text": [
            "Copying gs://deep-nexus/Kather_texture/hdf5_data/train.hdf5...\n",
            "\\ [1/1 files][257.5 MiB/257.5 MiB] 100% Done                                    \n",
            "Operation completed over 1 objects/257.5 MiB.                                    \n"
          ],
          "name": "stdout"
        }
      ]
    },
    {
      "cell_type": "code",
      "metadata": {
        "id": "32fZOwKqhjvT",
        "colab_type": "code",
        "outputId": "e4eb5328-af16-4704-d140-14288e201e79",
        "colab": {
          "base_uri": "https://localhost:8080/",
          "height": 69
        }
      },
      "source": [
        "!gsutil -m cp gs://deep-nexus/Kather_texture/hdf5_data/test.hdf5 sample_data/"
      ],
      "execution_count": 0,
      "outputs": [
        {
          "output_type": "stream",
          "text": [
            "Copying gs://deep-nexus/Kather_texture/hdf5_data/test.hdf5...\n",
            "\\ [1/1 files][ 32.5 MiB/ 32.5 MiB] 100% Done                                    \n",
            "Operation completed over 1 objects/32.5 MiB.                                     \n"
          ],
          "name": "stdout"
        }
      ]
    },
    {
      "cell_type": "code",
      "metadata": {
        "id": "LBodK48AmTU-",
        "colab_type": "code",
        "outputId": "ffcfffac-7870-4718-f84b-86444e318c91",
        "colab": {
          "base_uri": "https://localhost:8080/",
          "height": 69
        }
      },
      "source": [
        "!gsutil -m cp gs://deep-nexus/Kather_texture/hdf5_data/valid.hdf5 sample_data/"
      ],
      "execution_count": 0,
      "outputs": [
        {
          "output_type": "stream",
          "text": [
            "Copying gs://deep-nexus/Kather_texture/hdf5_data/valid.hdf5...\n",
            "\\ [1/1 files][ 31.9 MiB/ 31.9 MiB] 100% Done                                    \n",
            "Operation completed over 1 objects/31.9 MiB.                                     \n"
          ],
          "name": "stdout"
        }
      ]
    },
    {
      "cell_type": "code",
      "metadata": {
        "id": "CUstZeID067c",
        "colab_type": "code",
        "colab": {}
      },
      "source": [
        "def load_dataset():\n",
        "    train_dataset = h5py.File('sample_data/train.hdf5', \"r\")\n",
        "    X_train = np.array(train_dataset[\"data_x\"][:]) # your train set features\n",
        "    y_train = np.array(train_dataset[\"data_y\"][:]) # your train set labels\n",
        "\n",
        "    valid_dataset = h5py.File('sample_data/valid.hdf5', \"r\")\n",
        "    X_valid = np.array(valid_dataset[\"data_x\"][:]) # your valid set features\n",
        "    y_valid = np.array(valid_dataset[\"data_y\"][:]) # your valid set labels\n",
        "    \n",
        "    test_dataset = h5py.File('sample_data/test.hdf5', \"r\")\n",
        "    X_test = np.array(test_dataset[\"data_x\"][:]) # your test set features\n",
        "    y_test = np.array(test_dataset[\"data_y\"][:]) # your test set labels\n",
        "\n",
        "    classes = np.array(['01_TUMOR','02_STROMA','03_COMPLEX','04_LYMPHO','05_DEBRIS','06_MUCOSA','07_ADIPOSE','08_EMPTY']) # the list of classes\n",
        "\n",
        "    return X_train, y_train, X_valid, y_valid, X_test, y_test, classes"
      ],
      "execution_count": 0,
      "outputs": []
    },
    {
      "cell_type": "code",
      "metadata": {
        "id": "PcmYeXxVvYCV",
        "colab_type": "code",
        "colab": {}
      },
      "source": [
        "X_train, y_train, X_valid, y_valid, X_test, y_test, classes = load_dataset()"
      ],
      "execution_count": 0,
      "outputs": []
    },
    {
      "cell_type": "code",
      "metadata": {
        "id": "ajVZ2VL9uOLi",
        "colab_type": "code",
        "outputId": "2f3646c5-086c-4b19-e718-a5220f017ef1",
        "colab": {
          "base_uri": "https://localhost:8080/",
          "height": 287
        }
      },
      "source": [
        "index = 1000\n",
        "plt.imshow(X_train[index])\n",
        "print (\"y = \" + str(y_train[index]) + \", it's a '\" + classes[y_train[index-1]] +  \"' picture.\")\n"
      ],
      "execution_count": 0,
      "outputs": [
        {
          "output_type": "stream",
          "text": [
            "y = 3, it's a '03_COMPLEX' picture.\n"
          ],
          "name": "stdout"
        },
        {
          "output_type": "display_data",
          "data": {
            "image/png": "[encoded data removed]",
            "text/plain": [
              "<Figure size 432x288 with 1 Axes>"
            ]
          },
          "metadata": {
            "tags": []
          }
        }
      ]
    },
    {
      "cell_type": "code",
      "metadata": {
        "id": "AO7l546Bc55H",
        "colab_type": "code",
        "outputId": "399b4249-17cf-44ff-fa52-87e76dcc1e95",
        "colab": {
          "base_uri": "https://localhost:8080/",
          "height": 121
        }
      },
      "source": [
        "print(X_train.shape)\n",
        "print(y_train.shape)\n",
        "print(X_valid.shape)\n",
        "print(y_valid.shape)\n",
        "print(X_test.shape)\n",
        "print(y_test.shape)"
      ],
      "execution_count": 0,
      "outputs": [
        {
          "output_type": "stream",
          "text": [
            "(4000, 150, 150, 3)\n",
            "(4000,)\n",
            "(496, 150, 150, 3)\n",
            "(496,)\n",
            "(504, 150, 150, 3)\n",
            "(504,)\n"
          ],
          "name": "stdout"
        }
      ]
    },
    {
      "cell_type": "markdown",
      "metadata": {
        "collapsed": true,
        "id": "C7_1mVRoc55Q",
        "colab_type": "text"
      },
      "source": [
        "## Data Pre-processing"
      ]
    },
    {
      "cell_type": "code",
      "metadata": {
        "id": "vTW7_d-_c55U",
        "colab_type": "code",
        "colab": {}
      },
      "source": [
        "# Resizing images to 1-D array to be fit into NN\n",
        "X_train = X_train.reshape(4000, 150, 150, 3)\n",
        "X_valid = X_valid.reshape(496, 150, 150, 3)\n",
        "X_test = X_test.reshape(504, 150, 150, 3)\n",
        "\n",
        "# Converting the data to float type \n",
        "X_train = X_train.astype('float32')\n",
        "X_valid = X_valid.astype('float32')\n",
        "X_test = X_test.astype('float32')\n",
        "\n",
        "# Scaling the data\n",
        "X_train = X_train/255.0\n",
        "X_valid = X_valid/255.0\n",
        "X_test = X_test/255.0\n",
        "\n",
        "num_classes = 8\n",
        "\n",
        "# Converting the output to categorical variables\n",
        "y_train = to_categorical(y_train-1,num_classes)\n",
        "y_valid = to_categorical(y_valid-1,num_classes)\n",
        "y_test = to_categorical(y_test-1, num_classes)"
      ],
      "execution_count": 0,
      "outputs": []
    },
    {
      "cell_type": "code",
      "metadata": {
        "id": "Rq2BqUyWc55a",
        "colab_type": "code",
        "outputId": "1db7382e-9ff3-491b-b165-2461c3e2df48",
        "colab": {
          "base_uri": "https://localhost:8080/",
          "height": 121
        }
      },
      "source": [
        "# Chacking the train, validation and test sets\n",
        "\n",
        "print(X_train.shape)\n",
        "print(y_train.shape)\n",
        "print(X_valid.shape)\n",
        "print(y_valid.shape)\n",
        "print(X_test.shape)\n",
        "print(y_test.shape)"
      ],
      "execution_count": 0,
      "outputs": [
        {
          "output_type": "stream",
          "text": [
            "(4000, 150, 150, 3)\n",
            "(4000, 8)\n",
            "(496, 150, 150, 3)\n",
            "(496, 8)\n",
            "(504, 150, 150, 3)\n",
            "(504, 8)\n"
          ],
          "name": "stdout"
        }
      ]
    },
    {
      "cell_type": "markdown",
      "metadata": {
        "collapsed": true,
        "id": "93T40_tAc55n",
        "colab_type": "text"
      },
      "source": [
        "## Create and Compile the VGG16 Model"
      ]
    },
    {
      "cell_type": "code",
      "metadata": {
        "id": "8Vm9E2WE83Cf",
        "colab_type": "code",
        "outputId": "ef0b2718-b4b0-440a-e420-f53229377856",
        "colab": {
          "base_uri": "https://localhost:8080/",
          "height": 1000
        }
      },
      "source": [
        "# LOAD VGG16\n",
        "input_tensor = Input(shape=(150,150,3))\n",
        "model_vgg16_conv = applications.VGG16(weights='imagenet', \n",
        "                           include_top=False,\n",
        "                           input_tensor=input_tensor)\n",
        "model_vgg16_conv.summary()"
      ],
      "execution_count": 0,
      "outputs": [
        {
          "output_type": "stream",
          "text": [
            "WARNING: Logging before flag parsing goes to stderr.\n",
            "W0827 18:36:36.184368 140002072065920 deprecation_wrapper.py:119] From /usr/local/lib/python3.6/dist-packages/keras/backend/tensorflow_backend.py:74: The name tf.get_default_graph is deprecated. Please use tf.compat.v1.get_default_graph instead.\n",
            "\n",
            "W0827 18:36:36.222248 140002072065920 deprecation_wrapper.py:119] From /usr/local/lib/python3.6/dist-packages/keras/backend/tensorflow_backend.py:517: The name tf.placeholder is deprecated. Please use tf.compat.v1.placeholder instead.\n",
            "\n",
            "W0827 18:36:36.229412 140002072065920 deprecation_wrapper.py:119] From /usr/local/lib/python3.6/dist-packages/keras/backend/tensorflow_backend.py:4138: The name tf.random_uniform is deprecated. Please use tf.random.uniform instead.\n",
            "\n",
            "W0827 18:36:36.268536 140002072065920 deprecation_wrapper.py:119] From /usr/local/lib/python3.6/dist-packages/keras/backend/tensorflow_backend.py:3976: The name tf.nn.max_pool is deprecated. Please use tf.nn.max_pool2d instead.\n",
            "\n"
          ],
          "name": "stderr"
        },
        {
          "output_type": "stream",
          "text": [
            "Downloading data from https://github.com/fchollet/deep-learning-models/releases/download/v0.1/vgg16_weights_tf_dim_ordering_tf_kernels_notop.h5\n",
            "58892288/58889256 [==============================] - 12s 0us/step\n"
          ],
          "name": "stdout"
        },
        {
          "output_type": "stream",
          "text": [
            "W0827 18:36:48.559922 140002072065920 deprecation_wrapper.py:119] From /usr/local/lib/python3.6/dist-packages/keras/backend/tensorflow_backend.py:174: The name tf.get_default_session is deprecated. Please use tf.compat.v1.get_default_session instead.\n",
            "\n",
            "W0827 18:36:48.561178 140002072065920 deprecation_wrapper.py:119] From /usr/local/lib/python3.6/dist-packages/keras/backend/tensorflow_backend.py:181: The name tf.ConfigProto is deprecated. Please use tf.compat.v1.ConfigProto instead.\n",
            "\n"
          ],
          "name": "stderr"
        },
        {
          "output_type": "stream",
          "text": [
            "_________________________________________________________________\n",
            "Layer (type)                 Output Shape              Param #   \n",
            "=================================================================\n",
            "input_1 (InputLayer)         (None, 150, 150, 3)       0         \n",
            "_________________________________________________________________\n",
            "block1_conv1 (Conv2D)        (None, 150, 150, 64)      1792      \n",
            "_________________________________________________________________\n",
            "block1_conv2 (Conv2D)        (None, 150, 150, 64)      36928     \n",
            "_________________________________________________________________\n",
            "block1_pool (MaxPooling2D)   (None, 75, 75, 64)        0         \n",
            "_________________________________________________________________\n",
            "block2_conv1 (Conv2D)        (None, 75, 75, 128)       73856     \n",
            "_________________________________________________________________\n",
            "block2_conv2 (Conv2D)        (None, 75, 75, 128)       147584    \n",
            "_________________________________________________________________\n",
            "block2_pool (MaxPooling2D)   (None, 37, 37, 128)       0         \n",
            "_________________________________________________________________\n",
            "block3_conv1 (Conv2D)        (None, 37, 37, 256)       295168    \n",
            "_________________________________________________________________\n",
            "block3_conv2 (Conv2D)        (None, 37, 37, 256)       590080    \n",
            "_________________________________________________________________\n",
            "block3_conv3 (Conv2D)        (None, 37, 37, 256)       590080    \n",
            "_________________________________________________________________\n",
            "block3_pool (MaxPooling2D)   (None, 18, 18, 256)       0         \n",
            "_________________________________________________________________\n",
            "block4_conv1 (Conv2D)        (None, 18, 18, 512)       1180160   \n",
            "_________________________________________________________________\n",
            "block4_conv2 (Conv2D)        (None, 18, 18, 512)       2359808   \n",
            "_________________________________________________________________\n",
            "block4_conv3 (Conv2D)        (None, 18, 18, 512)       2359808   \n",
            "_________________________________________________________________\n",
            "block4_pool (MaxPooling2D)   (None, 9, 9, 512)         0         \n",
            "_________________________________________________________________\n",
            "block5_conv1 (Conv2D)        (None, 9, 9, 512)         2359808   \n",
            "_________________________________________________________________\n",
            "block5_conv2 (Conv2D)        (None, 9, 9, 512)         2359808   \n",
            "_________________________________________________________________\n",
            "block5_conv3 (Conv2D)        (None, 9, 9, 512)         2359808   \n",
            "_________________________________________________________________\n",
            "block5_pool (MaxPooling2D)   (None, 4, 4, 512)         0         \n",
            "=================================================================\n",
            "Total params: 14,714,688\n",
            "Trainable params: 14,714,688\n",
            "Non-trainable params: 0\n",
            "_________________________________________________________________\n"
          ],
          "name": "stdout"
        }
      ]
    },
    {
      "cell_type": "markdown",
      "metadata": {
        "id": "Y1-JXDuRcjoH",
        "colab_type": "text"
      },
      "source": [
        "Reference link: https://www.analyticsvidhya.com/blog/2017/06/transfer-learning-the-art-of-fine-tuning-a-pre-trained-model/"
      ]
    },
    {
      "cell_type": "code",
      "metadata": {
        "id": "4T0IiRjQFJPy",
        "colab_type": "code",
        "outputId": "0ffd96bc-d240-452c-db1d-72b29623d756",
        "colab": {
          "base_uri": "https://localhost:8080/",
          "height": 419
        }
      },
      "source": [
        "# Make vgg16 model layers as non trainable\n",
        "for layer in model_vgg16_conv.layers:\n",
        "    layer.trainable = False\n",
        "\n",
        "# Create our own input format\n",
        "input = Input(shape=(150,150,3),name = 'image_input')   \n",
        "\n",
        "# Use the generated model \n",
        "output_vgg16_conv = model_vgg16_conv(input)\n",
        "\n",
        "# Add the flatten layer and output layer\n",
        "x = Flatten(name='flatten')(output_vgg16_conv)\n",
        "x = Dense(512, activation='relu', name='fc1')(x)\n",
        "x = Dense(128, activation='relu', name='fc2')(x)\n",
        "x = Dense(8, activation='softmax', name='predictions')(x)\n",
        "\n",
        "# Create our own model\n",
        "my_model1 = Model(input=input, output=x)\n",
        "my_model1.summary()\n",
        "my_model1.compile(loss='categorical_crossentropy',\n",
        "              optimizer='adam',\n",
        "              metrics=['accuracy'])"
      ],
      "execution_count": 0,
      "outputs": [
        {
          "output_type": "stream",
          "text": [
            "/usr/local/lib/python3.6/dist-packages/ipykernel_launcher.py:17: UserWarning: Update your `Model` call to the Keras 2 API: `Model(inputs=Tensor(\"im..., outputs=Tensor(\"pr...)`\n",
            "W0827 18:36:52.663032 140002072065920 deprecation_wrapper.py:119] From /usr/local/lib/python3.6/dist-packages/keras/optimizers.py:790: The name tf.train.Optimizer is deprecated. Please use tf.compat.v1.train.Optimizer instead.\n",
            "\n"
          ],
          "name": "stderr"
        },
        {
          "output_type": "stream",
          "text": [
            "_________________________________________________________________\n",
            "Layer (type)                 Output Shape              Param #   \n",
            "=================================================================\n",
            "image_input (InputLayer)     (None, 150, 150, 3)       0         \n",
            "_________________________________________________________________\n",
            "vgg16 (Model)                (None, 4, 4, 512)         14714688  \n",
            "_________________________________________________________________\n",
            "flatten (Flatten)            (None, 8192)              0         \n",
            "_________________________________________________________________\n",
            "fc1 (Dense)                  (None, 512)               4194816   \n",
            "_________________________________________________________________\n",
            "fc2 (Dense)                  (None, 128)               65664     \n",
            "_________________________________________________________________\n",
            "predictions (Dense)          (None, 8)                 1032      \n",
            "=================================================================\n",
            "Total params: 18,976,200\n",
            "Trainable params: 4,261,512\n",
            "Non-trainable params: 14,714,688\n",
            "_________________________________________________________________\n"
          ],
          "name": "stdout"
        }
      ]
    },
    {
      "cell_type": "markdown",
      "metadata": {
        "id": "O03XgWQYSO_l",
        "colab_type": "text"
      },
      "source": [
        "## Model Without Data Augmentation"
      ]
    },
    {
      "cell_type": "code",
      "metadata": {
        "id": "XO7E_g_3OP4b",
        "colab_type": "code",
        "colab": {}
      },
      "source": [
        "callbacks1 = [EarlyStopping(monitor='val_loss', mode='min', patience=4, baseline=0.8),\n",
        "         ModelCheckpoint(filepath='best_model1.h5', monitor='val_loss', mode='min', save_best_only=True)]"
      ],
      "execution_count": 0,
      "outputs": []
    },
    {
      "cell_type": "code",
      "metadata": {
        "id": "aWleZYwKL4go",
        "colab_type": "code",
        "outputId": "d6107079-1a48-4a81-f625-e738117f1204",
        "colab": {
          "base_uri": "https://localhost:8080/",
          "height": 419
        }
      },
      "source": [
        "batch_size = 32\n",
        "nb_classes = 8\n",
        "nb_epoch = 20\n",
        "\n",
        "# fit the model\n",
        "history1 = my_model1.fit(X_train, y_train,\n",
        "           batch_size=batch_size,\n",
        "           epochs=nb_epoch,\n",
        "           callbacks=callbacks1,\n",
        "           validation_data=(X_valid, y_valid))"
      ],
      "execution_count": 0,
      "outputs": [
        {
          "output_type": "stream",
          "text": [
            "W0827 18:36:52.824645 140002072065920 deprecation.py:323] From /usr/local/lib/python3.6/dist-packages/tensorflow/python/ops/math_grad.py:1250: add_dispatch_support.<locals>.wrapper (from tensorflow.python.ops.array_ops) is deprecated and will be removed in a future version.\n",
            "Instructions for updating:\n",
            "Use tf.where in 2.0, which has the same broadcast rule as np.where\n"
          ],
          "name": "stderr"
        },
        {
          "output_type": "stream",
          "text": [
            "Train on 4000 samples, validate on 496 samples\n",
            "Epoch 1/20\n",
            "4000/4000 [==============================] - 28s 7ms/step - loss: 0.7544 - acc: 0.7385 - val_loss: 0.4239 - val_acc: 0.8488\n",
            "Epoch 2/20\n",
            "4000/4000 [==============================] - 22s 6ms/step - loss: 0.3621 - acc: 0.8768 - val_loss: 0.4330 - val_acc: 0.8387\n",
            "Epoch 3/20\n",
            "4000/4000 [==============================] - 22s 6ms/step - loss: 0.2584 - acc: 0.9120 - val_loss: 0.4733 - val_acc: 0.8367\n",
            "Epoch 4/20\n",
            "4000/4000 [==============================] - 22s 6ms/step - loss: 0.2062 - acc: 0.9270 - val_loss: 0.3941 - val_acc: 0.8548\n",
            "Epoch 5/20\n",
            "4000/4000 [==============================] - 22s 6ms/step - loss: 0.1370 - acc: 0.9535 - val_loss: 0.3769 - val_acc: 0.8589\n",
            "Epoch 6/20\n",
            "4000/4000 [==============================] - 22s 6ms/step - loss: 0.1302 - acc: 0.9570 - val_loss: 0.5120 - val_acc: 0.8246\n",
            "Epoch 7/20\n",
            "4000/4000 [==============================] - 22s 6ms/step - loss: 0.0943 - acc: 0.9650 - val_loss: 0.5668 - val_acc: 0.8407\n",
            "Epoch 8/20\n",
            "4000/4000 [==============================] - 22s 6ms/step - loss: 0.0749 - acc: 0.9745 - val_loss: 0.4813 - val_acc: 0.8831\n",
            "Epoch 9/20\n",
            "4000/4000 [==============================] - 22s 6ms/step - loss: 0.0471 - acc: 0.9858 - val_loss: 0.4795 - val_acc: 0.8609\n"
          ],
          "name": "stdout"
        }
      ]
    },
    {
      "cell_type": "code",
      "metadata": {
        "id": "LMweHFpmTICj",
        "colab_type": "code",
        "outputId": "e13795f7-b6fe-4177-d38f-510be56e83f2",
        "colab": {
          "base_uri": "https://localhost:8080/",
          "height": 299
        }
      },
      "source": [
        "plt.plot(history1.history['acc'], 'bo', label='Training')\n",
        "plt.plot(history1.history['val_acc'], 'b', label='Validation')\n",
        "\n",
        "plt.title('Training and validation accuracy')\n",
        "plt.legend()"
      ],
      "execution_count": 0,
      "outputs": [
        {
          "output_type": "execute_result",
          "data": {
            "text/plain": [
              "<matplotlib.legend.Legend at 0x7f541b051a20>"
            ]
          },
          "metadata": {
            "tags": []
          },
          "execution_count": 16
        },
        {
          "output_type": "display_data",
          "data": {
            "image/png": "[encoded data removed]",
            "text/plain": [
              "<Figure size 432x288 with 1 Axes>"
            ]
          },
          "metadata": {
            "tags": []
          }
        }
      ]
    },
    {
      "cell_type": "code",
      "metadata": {
        "id": "aGVTfamuCDUL",
        "colab_type": "code",
        "colab": {}
      },
      "source": [
        "opt_model1 = load_model('best_model1.h5')"
      ],
      "execution_count": 0,
      "outputs": []
    },
    {
      "cell_type": "code",
      "metadata": {
        "id": "hDz-HkMQUAfx",
        "colab_type": "code",
        "outputId": "200690bb-0d52-4cd8-b95c-218ac29c56aa",
        "colab": {
          "base_uri": "https://localhost:8080/",
          "height": 35
        }
      },
      "source": [
        "score1 = opt_model1.evaluate(X_test,y_test)"
      ],
      "execution_count": 0,
      "outputs": [
        {
          "output_type": "stream",
          "text": [
            "504/504 [==============================] - 4s 8ms/step\n"
          ],
          "name": "stdout"
        }
      ]
    },
    {
      "cell_type": "code",
      "metadata": {
        "id": "DYEoCROJq7T-",
        "colab_type": "code",
        "outputId": "2f781512-68dc-4da2-fbe0-050b60ee6da2",
        "colab": {
          "base_uri": "https://localhost:8080/",
          "height": 35
        }
      },
      "source": [
        "score1"
      ],
      "execution_count": 0,
      "outputs": [
        {
          "output_type": "execute_result",
          "data": {
            "text/plain": [
              "[0.3181561662682465, 0.8928571428571429]"
            ]
          },
          "metadata": {
            "tags": []
          },
          "execution_count": 19
        }
      ]
    },
    {
      "cell_type": "markdown",
      "metadata": {
        "id": "mNX8LJ9-NJ-G",
        "colab_type": "text"
      },
      "source": [
        "## Model with Data Augmentation"
      ]
    },
    {
      "cell_type": "markdown",
      "metadata": {
        "id": "uhKgOV7PzKQO",
        "colab_type": "text"
      },
      "source": [
        "### Aug1: change in direction, brightness, and color channel"
      ]
    },
    {
      "cell_type": "code",
      "metadata": {
        "id": "BCUHebgh3drp",
        "colab_type": "code",
        "outputId": "f9be6264-88de-4f89-d74b-168cb8f0cb52",
        "colab": {
          "base_uri": "https://localhost:8080/",
          "height": 72
        }
      },
      "source": [
        "my_model2 = Model(input=input, output=x)\n",
        "my_model2.compile(loss='categorical_crossentropy',\n",
        "              optimizer='adam',\n",
        "              metrics=['accuracy'])"
      ],
      "execution_count": 0,
      "outputs": [
        {
          "output_type": "stream",
          "text": [
            "/usr/local/lib/python3.6/dist-packages/ipykernel_launcher.py:1: UserWarning: Update your `Model` call to the Keras 2 API: `Model(inputs=Tensor(\"im..., outputs=Tensor(\"pr...)`\n",
            "  \"\"\"Entry point for launching an IPython kernel.\n"
          ],
          "name": "stderr"
        }
      ]
    },
    {
      "cell_type": "code",
      "metadata": {
        "id": "tkCBYV2yOvrH",
        "colab_type": "code",
        "colab": {}
      },
      "source": [
        "# datagen1 includes changes in image direction, brightness, and color channel\n",
        "datagen1 = ImageDataGenerator(horizontal_flip=True, vertical_flip=True, brightness_range=(0.5,1.5), channel_shift_range=100)\n",
        "datagen1.fit(X_train)"
      ],
      "execution_count": 0,
      "outputs": []
    },
    {
      "cell_type": "code",
      "metadata": {
        "id": "VUzVtPd8VvMX",
        "colab_type": "code",
        "colab": {}
      },
      "source": [
        "callbacks2 = [EarlyStopping(monitor='val_loss', mode='min', patience=4),\n",
        "         ModelCheckpoint(filepath='best_model2.h5', monitor='val_loss', mode='min', save_best_only=True)]"
      ],
      "execution_count": 0,
      "outputs": []
    },
    {
      "cell_type": "code",
      "metadata": {
        "id": "M0HmrfQtN58I",
        "colab_type": "code",
        "outputId": "d799b395-2f5b-4ee7-cd68-b73caedf037e",
        "colab": {
          "base_uri": "https://localhost:8080/",
          "height": 315
        }
      },
      "source": [
        "# Fit the model on the batches generated by datagen.flow\n",
        "history2 = my_model2.fit_generator(datagen1.flow(X_train, y_train, batch_size=batch_size),\n",
        "                        steps_per_epoch=X_train.shape[0] // batch_size,\n",
        "                        validation_data=(X_valid, y_valid),\n",
        "                        callbacks=callbacks2,\n",
        "                        epochs=nb_epoch, verbose=1, max_q_size=100)"
      ],
      "execution_count": 0,
      "outputs": [
        {
          "output_type": "stream",
          "text": [
            "/usr/local/lib/python3.6/dist-packages/ipykernel_launcher.py:5: UserWarning: Update your `fit_generator` call to the Keras 2 API: `fit_generator(<keras_pre..., steps_per_epoch=125, validation_data=(array([[[..., callbacks=[<keras.ca..., epochs=20, verbose=1, max_queue_size=100)`\n",
            "  \"\"\"\n"
          ],
          "name": "stderr"
        },
        {
          "output_type": "stream",
          "text": [
            "Epoch 1/20\n",
            "125/125 [==============================] - 23s 181ms/step - loss: 2.8314 - acc: 0.1537 - val_loss: 2.7744 - val_acc: 0.4052\n",
            "Epoch 2/20\n",
            "125/125 [==============================] - 22s 173ms/step - loss: 2.1198 - acc: 0.1527 - val_loss: 3.1928 - val_acc: 0.3125\n",
            "Epoch 3/20\n",
            "125/125 [==============================] - 22s 173ms/step - loss: 2.0865 - acc: 0.1650 - val_loss: 2.6535 - val_acc: 0.4536\n",
            "Epoch 4/20\n",
            "125/125 [==============================] - 22s 174ms/step - loss: 2.0990 - acc: 0.1615 - val_loss: 6.7079 - val_acc: 0.1935\n",
            "Epoch 5/20\n",
            "125/125 [==============================] - 22s 173ms/step - loss: 2.0695 - acc: 0.1613 - val_loss: 9.6707 - val_acc: 0.1250\n",
            "Epoch 6/20\n",
            "125/125 [==============================] - 22s 173ms/step - loss: 2.0865 - acc: 0.1698 - val_loss: 7.8441 - val_acc: 0.1331\n",
            "Epoch 7/20\n",
            "125/125 [==============================] - 22s 173ms/step - loss: 2.0903 - acc: 0.1540 - val_loss: 5.4156 - val_acc: 0.1895\n"
          ],
          "name": "stdout"
        }
      ]
    },
    {
      "cell_type": "code",
      "metadata": {
        "id": "Kv26M_irc57O",
        "colab_type": "code",
        "outputId": "dadb71f1-a96c-45fd-f9f1-caa0c898fd8d",
        "colab": {
          "base_uri": "https://localhost:8080/",
          "height": 299
        }
      },
      "source": [
        "plt.plot(history2.history['acc'], 'bo', label='Training')\n",
        "plt.plot(history2.history['val_acc'], 'b', label='Validation')\n",
        "\n",
        "plt.title('Training and validation accuracy')\n",
        "plt.legend()"
      ],
      "execution_count": 0,
      "outputs": [
        {
          "output_type": "execute_result",
          "data": {
            "text/plain": [
              "<matplotlib.legend.Legend at 0x7f5417c62588>"
            ]
          },
          "metadata": {
            "tags": []
          },
          "execution_count": 24
        },
        {
          "output_type": "display_data",
          "data": {
            "image/png": "[encoded data removed]",
            "text/plain": [
              "<Figure size 432x288 with 1 Axes>"
            ]
          },
          "metadata": {
            "tags": []
          }
        }
      ]
    },
    {
      "cell_type": "code",
      "metadata": {
        "id": "PIBlFgKyWLL3",
        "colab_type": "code",
        "colab": {}
      },
      "source": [
        "opt_model2 = load_model('best_model2.h5')"
      ],
      "execution_count": 0,
      "outputs": []
    },
    {
      "cell_type": "code",
      "metadata": {
        "id": "GhIHjMcjc57c",
        "colab_type": "code",
        "outputId": "16824c46-5e58-4799-d2da-8036bd95a1a4",
        "colab": {
          "base_uri": "https://localhost:8080/",
          "height": 35
        }
      },
      "source": [
        "score2 = opt_model2.evaluate(X_test,y_test)"
      ],
      "execution_count": 0,
      "outputs": [
        {
          "output_type": "stream",
          "text": [
            "504/504 [==============================] - 3s 5ms/step\n"
          ],
          "name": "stdout"
        }
      ]
    },
    {
      "cell_type": "code",
      "metadata": {
        "id": "lAGzdl2cc57h",
        "colab_type": "code",
        "outputId": "74032d95-f399-41ee-e102-59fa8e8c22be",
        "colab": {
          "base_uri": "https://localhost:8080/",
          "height": 35
        }
      },
      "source": [
        "score2"
      ],
      "execution_count": 0,
      "outputs": [
        {
          "output_type": "execute_result",
          "data": {
            "text/plain": [
              "[2.6095562983481657, 0.4662698412698413]"
            ]
          },
          "metadata": {
            "tags": []
          },
          "execution_count": 27
        }
      ]
    },
    {
      "cell_type": "markdown",
      "metadata": {
        "id": "oJIqJ96HzPVH",
        "colab_type": "text"
      },
      "source": [
        "### Aug2: input standardization across the entire dataset"
      ]
    },
    {
      "cell_type": "code",
      "metadata": {
        "id": "4v9W1Z6h3gtb",
        "colab_type": "code",
        "outputId": "fc52de05-265a-43c4-f79f-463b8691ab19",
        "colab": {
          "base_uri": "https://localhost:8080/",
          "height": 72
        }
      },
      "source": [
        "my_model3 = Model(input=input, output=x)\n",
        "my_model3.compile(loss='categorical_crossentropy',\n",
        "              optimizer='adam',\n",
        "              metrics=['accuracy'])"
      ],
      "execution_count": 0,
      "outputs": [
        {
          "output_type": "stream",
          "text": [
            "/usr/local/lib/python3.6/dist-packages/ipykernel_launcher.py:1: UserWarning: Update your `Model` call to the Keras 2 API: `Model(inputs=Tensor(\"im..., outputs=Tensor(\"pr...)`\n",
            "  \"\"\"Entry point for launching an IPython kernel.\n"
          ],
          "name": "stderr"
        }
      ]
    },
    {
      "cell_type": "code",
      "metadata": {
        "id": "tsTxBJEZzQ99",
        "colab_type": "code",
        "colab": {}
      },
      "source": [
        "# datagen2 includes input standardization across the entire dataset\n",
        "datagen2 = ImageDataGenerator(featurewise_center=True, featurewise_std_normalization=True)\n",
        "datagen2.fit(X_train)"
      ],
      "execution_count": 0,
      "outputs": []
    },
    {
      "cell_type": "code",
      "metadata": {
        "id": "DpuJPVEXYowC",
        "colab_type": "code",
        "colab": {}
      },
      "source": [
        "callbacks3 = [EarlyStopping(monitor='val_loss', mode='min', patience=4),\n",
        "         ModelCheckpoint(filepath='best_model3.h5', monitor='val_loss', mode='min', save_best_only=True)]"
      ],
      "execution_count": 0,
      "outputs": []
    },
    {
      "cell_type": "code",
      "metadata": {
        "id": "Q4GD7sihzjKE",
        "colab_type": "code",
        "outputId": "ee5ba9e4-10a1-4d8a-baf8-312a5a60e080",
        "colab": {
          "base_uri": "https://localhost:8080/",
          "height": 315
        }
      },
      "source": [
        "# Fit the model on the batches generated by datagen.flow\n",
        "history3 = my_model3.fit_generator(datagen2.flow(X_train, y_train, batch_size=batch_size),\n",
        "                        steps_per_epoch=X_train.shape[0] // batch_size,\n",
        "                        validation_data=(X_valid, y_valid),\n",
        "                        callbacks=callbacks3,\n",
        "                        epochs=nb_epoch, verbose=1, max_q_size=100)"
      ],
      "execution_count": 0,
      "outputs": [
        {
          "output_type": "stream",
          "text": [
            "/usr/local/lib/python3.6/dist-packages/ipykernel_launcher.py:5: UserWarning: Update your `fit_generator` call to the Keras 2 API: `fit_generator(<keras_pre..., steps_per_epoch=125, validation_data=(array([[[..., callbacks=[<keras.ca..., epochs=20, verbose=1, max_queue_size=100)`\n",
            "  \"\"\"\n"
          ],
          "name": "stderr"
        },
        {
          "output_type": "stream",
          "text": [
            "Epoch 1/20\n",
            "125/125 [==============================] - 22s 178ms/step - loss: 0.0122 - acc: 0.9978 - val_loss: 1.9107 - val_acc: 0.6734\n",
            "Epoch 2/20\n",
            "125/125 [==============================] - 22s 179ms/step - loss: 0.0072 - acc: 0.9980 - val_loss: 1.9019 - val_acc: 0.6915\n",
            "Epoch 3/20\n",
            "125/125 [==============================] - 22s 179ms/step - loss: 0.0057 - acc: 0.9990 - val_loss: 1.8879 - val_acc: 0.7097\n",
            "Epoch 4/20\n",
            "125/125 [==============================] - 22s 179ms/step - loss: 0.0044 - acc: 0.9993 - val_loss: 1.9746 - val_acc: 0.6915\n",
            "Epoch 5/20\n",
            "125/125 [==============================] - 22s 179ms/step - loss: 0.0053 - acc: 0.9990 - val_loss: 1.9582 - val_acc: 0.6996\n",
            "Epoch 6/20\n",
            "125/125 [==============================] - 22s 180ms/step - loss: 0.0035 - acc: 0.9995 - val_loss: 1.9900 - val_acc: 0.7016\n",
            "Epoch 7/20\n",
            "125/125 [==============================] - 22s 179ms/step - loss: 0.0046 - acc: 0.9993 - val_loss: 2.0062 - val_acc: 0.7077\n"
          ],
          "name": "stdout"
        }
      ]
    },
    {
      "cell_type": "code",
      "metadata": {
        "id": "hqKj93gc0R_f",
        "colab_type": "code",
        "outputId": "66acb80b-2502-4433-d46d-62178d4a8a86",
        "colab": {
          "base_uri": "https://localhost:8080/",
          "height": 299
        }
      },
      "source": [
        "plt.plot(history3.history['acc'], 'bo', label='Training')\n",
        "plt.plot(history3.history['val_acc'], 'b', label='Validation')\n",
        "\n",
        "plt.title('Training and validation accuracy')\n",
        "plt.legend()"
      ],
      "execution_count": 0,
      "outputs": [
        {
          "output_type": "execute_result",
          "data": {
            "text/plain": [
              "<matplotlib.legend.Legend at 0x7f5417935be0>"
            ]
          },
          "metadata": {
            "tags": []
          },
          "execution_count": 32
        },
        {
          "output_type": "display_data",
          "data": {
            "image/png": "[encoded data removed]",
            "text/plain": [
              "<Figure size 432x288 with 1 Axes>"
            ]
          },
          "metadata": {
            "tags": []
          }
        }
      ]
    },
    {
      "cell_type": "code",
      "metadata": {
        "id": "8ElgJrVdY1_7",
        "colab_type": "code",
        "colab": {}
      },
      "source": [
        "opt_model3 = load_model('best_model3.h5')"
      ],
      "execution_count": 0,
      "outputs": []
    },
    {
      "cell_type": "code",
      "metadata": {
        "id": "34xAl_1-0VZ4",
        "colab_type": "code",
        "outputId": "d9bc5db6-cfa2-4b3f-eade-8ec6a5a2387b",
        "colab": {
          "base_uri": "https://localhost:8080/",
          "height": 35
        }
      },
      "source": [
        "score3 = opt_model3.evaluate(X_test,y_test)"
      ],
      "execution_count": 0,
      "outputs": [
        {
          "output_type": "stream",
          "text": [
            "504/504 [==============================] - 3s 5ms/step\n"
          ],
          "name": "stdout"
        }
      ]
    },
    {
      "cell_type": "code",
      "metadata": {
        "id": "XQz-Cfa10W7n",
        "colab_type": "code",
        "outputId": "7048b6a5-d927-42d7-b045-6ebe3ad80299",
        "colab": {
          "base_uri": "https://localhost:8080/",
          "height": 35
        }
      },
      "source": [
        "score3"
      ],
      "execution_count": 0,
      "outputs": [
        {
          "output_type": "execute_result",
          "data": {
            "text/plain": [
              "[0.7647199335079344, 0.7916666666666666]"
            ]
          },
          "metadata": {
            "tags": []
          },
          "execution_count": 35
        }
      ]
    },
    {
      "cell_type": "markdown",
      "metadata": {
        "id": "oBKZSydPc09N",
        "colab_type": "text"
      },
      "source": [
        "**Significant overfitting in train set.**"
      ]
    },
    {
      "cell_type": "markdown",
      "metadata": {
        "colab_type": "text",
        "id": "T-HcDAKranOd"
      },
      "source": [
        "### Aug3: sample-wise input standardization"
      ]
    },
    {
      "cell_type": "code",
      "metadata": {
        "id": "TMG3j8Yba8ID",
        "colab_type": "code",
        "outputId": "f3d27e3b-8d93-4779-cbbd-2b02bfeb732d",
        "colab": {
          "base_uri": "https://localhost:8080/",
          "height": 72
        }
      },
      "source": [
        "my_model4 = Model(input=input, output=x)\n",
        "my_model4.compile(loss='categorical_crossentropy',\n",
        "              optimizer='adam',\n",
        "              metrics=['accuracy'])"
      ],
      "execution_count": 0,
      "outputs": [
        {
          "output_type": "stream",
          "text": [
            "/usr/local/lib/python3.6/dist-packages/ipykernel_launcher.py:1: UserWarning: Update your `Model` call to the Keras 2 API: `Model(inputs=Tensor(\"im..., outputs=Tensor(\"pr...)`\n",
            "  \"\"\"Entry point for launching an IPython kernel.\n"
          ],
          "name": "stderr"
        }
      ]
    },
    {
      "cell_type": "code",
      "metadata": {
        "id": "0OwyeBxga_9-",
        "colab_type": "code",
        "colab": {}
      },
      "source": [
        "# datagen3 includes sample-wise input standardization\n",
        "datagen3 = ImageDataGenerator(samplewise_center=True, samplewise_std_normalization=True)\n",
        "datagen3.fit(X_train)"
      ],
      "execution_count": 0,
      "outputs": []
    },
    {
      "cell_type": "code",
      "metadata": {
        "id": "EbKOrw5sbK-O",
        "colab_type": "code",
        "colab": {}
      },
      "source": [
        "callbacks4 = [EarlyStopping(monitor='val_loss', mode='min', patience=4),\n",
        "         ModelCheckpoint(filepath='best_model4.h5', monitor='val_loss', mode='min', save_best_only=True)]"
      ],
      "execution_count": 0,
      "outputs": []
    },
    {
      "cell_type": "code",
      "metadata": {
        "id": "XRbqm-uzbNn4",
        "colab_type": "code",
        "outputId": "aad5bc44-e557-44ed-9a43-4b75e50cc84a",
        "colab": {
          "base_uri": "https://localhost:8080/",
          "height": 419
        }
      },
      "source": [
        "# Fit the model on the batches generated by datagen.flow\n",
        "history4 = my_model4.fit_generator(datagen3.flow(X_train, y_train, batch_size=batch_size),\n",
        "                        steps_per_epoch=X_train.shape[0] // batch_size,\n",
        "                        validation_data=(X_valid, y_valid),\n",
        "                        callbacks=callbacks4,\n",
        "                        epochs=nb_epoch, verbose=1, max_q_size=100)"
      ],
      "execution_count": 0,
      "outputs": [
        {
          "output_type": "stream",
          "text": [
            "Epoch 1/20\n",
            "\r  1/125 [..............................] - ETA: 23s - loss: 0.0068 - acc: 1.0000"
          ],
          "name": "stdout"
        },
        {
          "output_type": "stream",
          "text": [
            "/usr/local/lib/python3.6/dist-packages/ipykernel_launcher.py:5: UserWarning: Update your `fit_generator` call to the Keras 2 API: `fit_generator(<keras_pre..., steps_per_epoch=125, validation_data=(array([[[..., callbacks=[<keras.ca..., epochs=20, verbose=1, max_queue_size=100)`\n",
            "  \"\"\"\n"
          ],
          "name": "stderr"
        },
        {
          "output_type": "stream",
          "text": [
            "125/125 [==============================] - 22s 180ms/step - loss: 0.0882 - acc: 0.9748 - val_loss: 3.3810 - val_acc: 0.5625\n",
            "Epoch 2/20\n",
            "125/125 [==============================] - 22s 180ms/step - loss: 0.0287 - acc: 0.9892 - val_loss: 3.3815 - val_acc: 0.5746\n",
            "Epoch 3/20\n",
            "125/125 [==============================] - 22s 179ms/step - loss: 0.0076 - acc: 0.9980 - val_loss: 3.3792 - val_acc: 0.5847\n",
            "Epoch 4/20\n",
            "125/125 [==============================] - 22s 179ms/step - loss: 0.0284 - acc: 0.9898 - val_loss: 3.5570 - val_acc: 0.5726\n",
            "Epoch 5/20\n",
            "125/125 [==============================] - 22s 179ms/step - loss: 0.1001 - acc: 0.9702 - val_loss: 3.9729 - val_acc: 0.5141\n",
            "Epoch 6/20\n",
            "125/125 [==============================] - 22s 180ms/step - loss: 0.0229 - acc: 0.9942 - val_loss: 2.2241 - val_acc: 0.6431\n",
            "Epoch 7/20\n",
            "125/125 [==============================] - 22s 180ms/step - loss: 0.0036 - acc: 0.9990 - val_loss: 2.9053 - val_acc: 0.6149\n",
            "Epoch 8/20\n",
            "125/125 [==============================] - 22s 180ms/step - loss: 0.0011 - acc: 0.9998 - val_loss: 3.0262 - val_acc: 0.6109\n",
            "Epoch 9/20\n",
            "125/125 [==============================] - 22s 180ms/step - loss: 2.6269e-04 - acc: 1.0000 - val_loss: 3.0634 - val_acc: 0.6089\n",
            "Epoch 10/20\n",
            "125/125 [==============================] - 22s 180ms/step - loss: 1.9925e-04 - acc: 1.0000 - val_loss: 3.0818 - val_acc: 0.6129\n"
          ],
          "name": "stdout"
        }
      ]
    },
    {
      "cell_type": "code",
      "metadata": {
        "id": "_cTZTZ2abusR",
        "colab_type": "code",
        "outputId": "67d9f345-dfa9-4d5c-f75d-69fcb2b202d2",
        "colab": {
          "base_uri": "https://localhost:8080/",
          "height": 299
        }
      },
      "source": [
        "plt.plot(history4.history['acc'], 'bo', label='Training')\n",
        "plt.plot(history4.history['val_acc'], 'b', label='Validation')\n",
        "\n",
        "plt.title('Training and validation accuracy')\n",
        "plt.legend()"
      ],
      "execution_count": 0,
      "outputs": [
        {
          "output_type": "execute_result",
          "data": {
            "text/plain": [
              "<matplotlib.legend.Legend at 0x7f5418969128>"
            ]
          },
          "metadata": {
            "tags": []
          },
          "execution_count": 43
        },
        {
          "output_type": "display_data",
          "data": {
            "image/png": "[encoded data removed]",
            "text/plain": [
              "<Figure size 432x288 with 1 Axes>"
            ]
          },
          "metadata": {
            "tags": []
          }
        }
      ]
    },
    {
      "cell_type": "code",
      "metadata": {
        "id": "BODMjnd0bxzP",
        "colab_type": "code",
        "colab": {}
      },
      "source": [
        "opt_model4 = load_model('best_model4.h5')"
      ],
      "execution_count": 0,
      "outputs": []
    },
    {
      "cell_type": "code",
      "metadata": {
        "id": "UdPW3pQlb0h-",
        "colab_type": "code",
        "outputId": "35e870f8-873f-406a-97e1-b683fc34c931",
        "colab": {
          "base_uri": "https://localhost:8080/",
          "height": 35
        }
      },
      "source": [
        "score4 = opt_model4.evaluate(X_test,y_test)"
      ],
      "execution_count": 0,
      "outputs": [
        {
          "output_type": "stream",
          "text": [
            "504/504 [==============================] - 3s 5ms/step\n"
          ],
          "name": "stdout"
        }
      ]
    },
    {
      "cell_type": "code",
      "metadata": {
        "id": "WjwI3loeb2of",
        "colab_type": "code",
        "outputId": "7597c934-7d62-47a1-fd12-5f30a9f992bb",
        "colab": {
          "base_uri": "https://localhost:8080/",
          "height": 35
        }
      },
      "source": [
        "score4"
      ],
      "execution_count": 0,
      "outputs": [
        {
          "output_type": "execute_result",
          "data": {
            "text/plain": [
              "[0.7647199335079344, 0.7916666666666666]"
            ]
          },
          "metadata": {
            "tags": []
          },
          "execution_count": 47
        }
      ]
    },
    {
      "cell_type": "markdown",
      "metadata": {
        "id": "0MsL73a8dC2y",
        "colab_type": "text"
      },
      "source": [
        "**Again overfitting in the train set.**"
      ]
    },
    {
      "cell_type": "markdown",
      "metadata": {
        "colab_type": "text",
        "id": "9LwZx4Z2fJRy"
      },
      "source": [
        "### Aug4: only change in brightness"
      ]
    },
    {
      "cell_type": "code",
      "metadata": {
        "colab_type": "code",
        "outputId": "db422a74-c1c3-436f-b30e-dcd88ecd333b",
        "id": "OCf2CLgqfYha",
        "colab": {
          "base_uri": "https://localhost:8080/",
          "height": 72
        }
      },
      "source": [
        "my_model5 = Model(input=input, output=x)\n",
        "my_model5.compile(loss='categorical_crossentropy',\n",
        "              optimizer='adam',\n",
        "              metrics=['accuracy'])"
      ],
      "execution_count": 0,
      "outputs": [
        {
          "output_type": "stream",
          "text": [
            "/usr/local/lib/python3.6/dist-packages/ipykernel_launcher.py:1: UserWarning: Update your `Model` call to the Keras 2 API: `Model(inputs=Tensor(\"im..., outputs=Tensor(\"pr...)`\n",
            "  \"\"\"Entry point for launching an IPython kernel.\n"
          ],
          "name": "stderr"
        }
      ]
    },
    {
      "cell_type": "code",
      "metadata": {
        "colab_type": "code",
        "id": "ZNm2hcIgfanu",
        "colab": {}
      },
      "source": [
        "# datagen4 only includes changes brightness\n",
        "datagen4 = ImageDataGenerator(brightness_range=(0.5,1.5))\n",
        "datagen4.fit(X_train)"
      ],
      "execution_count": 0,
      "outputs": []
    },
    {
      "cell_type": "code",
      "metadata": {
        "colab_type": "code",
        "id": "ZEvn7HIgfdYH",
        "colab": {}
      },
      "source": [
        "callbacks5 = [EarlyStopping(monitor='val_loss', mode='min', patience=4),\n",
        "         ModelCheckpoint(filepath='best_model5.h5', monitor='val_loss', mode='min', save_best_only=True)]"
      ],
      "execution_count": 0,
      "outputs": []
    },
    {
      "cell_type": "code",
      "metadata": {
        "colab_type": "code",
        "outputId": "4fec24a9-1df3-4e88-f714-29754555b5a7",
        "id": "83rSBbI1fjuz",
        "colab": {
          "base_uri": "https://localhost:8080/",
          "height": 280
        }
      },
      "source": [
        "# Fit the model on the batches generated by datagen.flow\n",
        "history5 = my_model5.fit_generator(datagen4.flow(X_train, y_train, batch_size=batch_size),\n",
        "                        steps_per_epoch=X_train.shape[0] // batch_size,\n",
        "                        validation_data=(X_valid, y_valid),\n",
        "                        callbacks=callbacks5,\n",
        "                        epochs=nb_epoch, verbose=1, max_q_size=100)"
      ],
      "execution_count": 0,
      "outputs": [
        {
          "output_type": "stream",
          "text": [
            "/usr/local/lib/python3.6/dist-packages/ipykernel_launcher.py:5: UserWarning: Update your `fit_generator` call to the Keras 2 API: `fit_generator(<keras_pre..., steps_per_epoch=125, validation_data=(array([[[..., callbacks=[<keras.ca..., epochs=20, verbose=1, max_queue_size=100)`\n",
            "  \"\"\"\n"
          ],
          "name": "stderr"
        },
        {
          "output_type": "stream",
          "text": [
            "Epoch 1/20\n",
            "125/125 [==============================] - 24s 191ms/step - loss: 2.1263 - acc: 0.8548 - val_loss: 7.0859 - val_acc: 0.4536\n",
            "Epoch 2/20\n",
            "125/125 [==============================] - 22s 178ms/step - loss: 1.9306 - acc: 0.8668 - val_loss: 4.1120 - val_acc: 0.5907\n",
            "Epoch 3/20\n",
            "125/125 [==============================] - 22s 179ms/step - loss: 1.9626 - acc: 0.8685 - val_loss: 4.7178 - val_acc: 0.5161\n",
            "Epoch 4/20\n",
            "125/125 [==============================] - 22s 179ms/step - loss: 1.9562 - acc: 0.8672 - val_loss: 6.3749 - val_acc: 0.4536\n",
            "Epoch 5/20\n",
            "125/125 [==============================] - 22s 180ms/step - loss: 1.6255 - acc: 0.8882 - val_loss: 7.0229 - val_acc: 0.3286\n",
            "Epoch 6/20\n",
            "125/125 [==============================] - 22s 180ms/step - loss: 1.4750 - acc: 0.8962 - val_loss: 5.9791 - val_acc: 0.4657\n"
          ],
          "name": "stdout"
        }
      ]
    },
    {
      "cell_type": "code",
      "metadata": {
        "colab_type": "code",
        "outputId": "018fb7b4-b13b-43fd-f14c-f999a5cea792",
        "id": "SC-SHb9Lfm0O",
        "colab": {
          "base_uri": "https://localhost:8080/",
          "height": 299
        }
      },
      "source": [
        "plt.plot(history5.history['acc'], 'bo', label='Training')\n",
        "plt.plot(history5.history['val_acc'], 'b', label='Validation')\n",
        "\n",
        "plt.title('Training and validation accuracy')\n",
        "plt.legend()"
      ],
      "execution_count": 0,
      "outputs": [
        {
          "output_type": "execute_result",
          "data": {
            "text/plain": [
              "<matplotlib.legend.Legend at 0x7f5417ceddd8>"
            ]
          },
          "metadata": {
            "tags": []
          },
          "execution_count": 52
        },
        {
          "output_type": "display_data",
          "data": {
            "image/png": "[encoded data removed]",
            "text/plain": [
              "<Figure size 432x288 with 1 Axes>"
            ]
          },
          "metadata": {
            "tags": []
          }
        }
      ]
    },
    {
      "cell_type": "code",
      "metadata": {
        "id": "lrzfV0v1gygZ",
        "colab_type": "code",
        "colab": {}
      },
      "source": [
        "opt_model5 = load_model('best_model5.h5')"
      ],
      "execution_count": 0,
      "outputs": []
    },
    {
      "cell_type": "code",
      "metadata": {
        "id": "6zbUcxwrg1-z",
        "colab_type": "code",
        "outputId": "9ccd86d5-cbea-4c63-f974-7207ebac2cd8",
        "colab": {
          "base_uri": "https://localhost:8080/",
          "height": 35
        }
      },
      "source": [
        "score5 = opt_model5.evaluate(X_test,y_test)"
      ],
      "execution_count": 0,
      "outputs": [
        {
          "output_type": "stream",
          "text": [
            "504/504 [==============================] - 3s 6ms/step\n"
          ],
          "name": "stdout"
        }
      ]
    },
    {
      "cell_type": "code",
      "metadata": {
        "id": "E-M9hB5ng3yt",
        "colab_type": "code",
        "outputId": "a508ea59-c63e-44a3-abee-0718960719eb",
        "colab": {
          "base_uri": "https://localhost:8080/",
          "height": 35
        }
      },
      "source": [
        "score5"
      ],
      "execution_count": 0,
      "outputs": [
        {
          "output_type": "execute_result",
          "data": {
            "text/plain": [
              "[4.039113120190681, 0.5753968253968254]"
            ]
          },
          "metadata": {
            "tags": []
          },
          "execution_count": 55
        }
      ]
    },
    {
      "cell_type": "markdown",
      "metadata": {
        "id": "qSekhPmKg649",
        "colab_type": "text"
      },
      "source": [
        "**No obvious overfitting. Possible conclusion: tissue cell brightness plays an important role in classifying different cancer types.**"
      ]
    },
    {
      "cell_type": "markdown",
      "metadata": {
        "id": "WCNS7BwThaZ2",
        "colab_type": "text"
      },
      "source": [
        "### Aug5: only change in image direction"
      ]
    },
    {
      "cell_type": "code",
      "metadata": {
        "colab_type": "code",
        "outputId": "0ad6d04c-8cdf-4206-acb6-a37b1c803ec9",
        "id": "XVUqpR5XhjuH",
        "colab": {
          "base_uri": "https://localhost:8080/",
          "height": 72
        }
      },
      "source": [
        "my_model6 = Model(input=input, output=x)\n",
        "my_model6.compile(loss='categorical_crossentropy',\n",
        "              optimizer='adam',\n",
        "              metrics=['accuracy'])"
      ],
      "execution_count": 0,
      "outputs": [
        {
          "output_type": "stream",
          "text": [
            "/usr/local/lib/python3.6/dist-packages/ipykernel_launcher.py:1: UserWarning: Update your `Model` call to the Keras 2 API: `Model(inputs=Tensor(\"im..., outputs=Tensor(\"pr...)`\n",
            "  \"\"\"Entry point for launching an IPython kernel.\n"
          ],
          "name": "stderr"
        }
      ]
    },
    {
      "cell_type": "code",
      "metadata": {
        "id": "nxu9y_TwhoRq",
        "colab_type": "code",
        "colab": {}
      },
      "source": [
        "# datagen5 only includes changes direction\n",
        "datagen5 = ImageDataGenerator(horizontal_flip=True, vertical_flip=True)\n",
        "datagen5.fit(X_train)"
      ],
      "execution_count": 0,
      "outputs": []
    },
    {
      "cell_type": "code",
      "metadata": {
        "id": "BK-Cd3OXh1mL",
        "colab_type": "code",
        "colab": {}
      },
      "source": [
        "callbacks6 = [EarlyStopping(monitor='val_loss', mode='min', patience=4),\n",
        "         ModelCheckpoint(filepath='best_model6.h5', monitor='val_loss', mode='min', save_best_only=True)]"
      ],
      "execution_count": 0,
      "outputs": []
    },
    {
      "cell_type": "code",
      "metadata": {
        "id": "Bs2rQ45Kh6S7",
        "colab_type": "code",
        "outputId": "242f71c1-ac9d-494f-abcf-3b1df859b988",
        "colab": {
          "base_uri": "https://localhost:8080/",
          "height": 419
        }
      },
      "source": [
        "# Fit the model on the batches generated by datagen.flow\n",
        "history6 = my_model6.fit_generator(datagen5.flow(X_train, y_train, batch_size=batch_size),\n",
        "                        steps_per_epoch=X_train.shape[0] // batch_size,\n",
        "                        validation_data=(X_valid, y_valid),\n",
        "                        callbacks=callbacks6,\n",
        "                        epochs=nb_epoch, verbose=1, max_q_size=100)"
      ],
      "execution_count": 0,
      "outputs": [
        {
          "output_type": "stream",
          "text": [
            "/usr/local/lib/python3.6/dist-packages/ipykernel_launcher.py:5: UserWarning: Update your `fit_generator` call to the Keras 2 API: `fit_generator(<keras_pre..., steps_per_epoch=125, validation_data=(array([[[..., callbacks=[<keras.ca..., epochs=20, verbose=1, max_queue_size=100)`\n",
            "  \"\"\"\n"
          ],
          "name": "stderr"
        },
        {
          "output_type": "stream",
          "text": [
            "Epoch 1/20\n",
            "125/125 [==============================] - 23s 187ms/step - loss: 1.0028 - acc: 0.8050 - val_loss: 0.4176 - val_acc: 0.8448\n",
            "Epoch 2/20\n",
            "125/125 [==============================] - 22s 179ms/step - loss: 0.3528 - acc: 0.8732 - val_loss: 0.4051 - val_acc: 0.8649\n",
            "Epoch 3/20\n",
            "125/125 [==============================] - 22s 179ms/step - loss: 0.3120 - acc: 0.8950 - val_loss: 0.4109 - val_acc: 0.8468\n",
            "Epoch 4/20\n",
            "125/125 [==============================] - 22s 179ms/step - loss: 0.2851 - acc: 0.8930 - val_loss: 0.3612 - val_acc: 0.8690\n",
            "Epoch 5/20\n",
            "125/125 [==============================] - 22s 179ms/step - loss: 0.2622 - acc: 0.9070 - val_loss: 0.3594 - val_acc: 0.8649\n",
            "Epoch 6/20\n",
            "125/125 [==============================] - 22s 179ms/step - loss: 0.2447 - acc: 0.9123 - val_loss: 0.3446 - val_acc: 0.8710\n",
            "Epoch 7/20\n",
            "125/125 [==============================] - 22s 180ms/step - loss: 0.2257 - acc: 0.9190 - val_loss: 0.3693 - val_acc: 0.8750\n",
            "Epoch 8/20\n",
            "125/125 [==============================] - 22s 179ms/step - loss: 0.2204 - acc: 0.9218 - val_loss: 0.3910 - val_acc: 0.8649\n",
            "Epoch 9/20\n",
            "125/125 [==============================] - 22s 179ms/step - loss: 0.1994 - acc: 0.9315 - val_loss: 0.3784 - val_acc: 0.8589\n",
            "Epoch 10/20\n",
            "125/125 [==============================] - 22s 179ms/step - loss: 0.1941 - acc: 0.9330 - val_loss: 0.3541 - val_acc: 0.8609\n"
          ],
          "name": "stdout"
        }
      ]
    },
    {
      "cell_type": "code",
      "metadata": {
        "id": "ur7mgrPEiA5h",
        "colab_type": "code",
        "outputId": "9d50f53b-860b-4591-84b8-d53ec30e6653",
        "colab": {
          "base_uri": "https://localhost:8080/",
          "height": 299
        }
      },
      "source": [
        "plt.plot(history6.history['acc'], 'bo', label='Training')\n",
        "plt.plot(history6.history['val_acc'], 'b', label='Validation')\n",
        "\n",
        "plt.title('Training and validation accuracy')\n",
        "plt.legend()"
      ],
      "execution_count": 0,
      "outputs": [
        {
          "output_type": "execute_result",
          "data": {
            "text/plain": [
              "<matplotlib.legend.Legend at 0x7f5415832e10>"
            ]
          },
          "metadata": {
            "tags": []
          },
          "execution_count": 68
        },
        {
          "output_type": "display_data",
          "data": {
            "image/png": "[encoded data removed]",
            "text/plain": [
              "<Figure size 432x288 with 1 Axes>"
            ]
          },
          "metadata": {
            "tags": []
          }
        }
      ]
    },
    {
      "cell_type": "code",
      "metadata": {
        "id": "aCZivMzIiKzN",
        "colab_type": "code",
        "colab": {}
      },
      "source": [
        "opt_model6 = load_model('best_model6.h5')"
      ],
      "execution_count": 0,
      "outputs": []
    },
    {
      "cell_type": "code",
      "metadata": {
        "id": "V_ZyhOgJiQ76",
        "colab_type": "code",
        "outputId": "fa2b3c28-d07e-4bdc-ae28-59acfc333924",
        "colab": {
          "base_uri": "https://localhost:8080/",
          "height": 35
        }
      },
      "source": [
        "score6 = opt_model6.evaluate(X_test,y_test)"
      ],
      "execution_count": 0,
      "outputs": [
        {
          "output_type": "stream",
          "text": [
            "504/504 [==============================] - 3s 6ms/step\n"
          ],
          "name": "stdout"
        }
      ]
    },
    {
      "cell_type": "code",
      "metadata": {
        "id": "UaOYG4OQiVXg",
        "colab_type": "code",
        "outputId": "ef965da5-71d3-4465-b8f2-b302f223b9d9",
        "colab": {
          "base_uri": "https://localhost:8080/",
          "height": 35
        }
      },
      "source": [
        "score6"
      ],
      "execution_count": 0,
      "outputs": [
        {
          "output_type": "execute_result",
          "data": {
            "text/plain": [
              "[0.28115985226181767, 0.8988095238095238]"
            ]
          },
          "metadata": {
            "tags": []
          },
          "execution_count": 71
        }
      ]
    },
    {
      "cell_type": "markdown",
      "metadata": {
        "id": "OnL3POHbirqL",
        "colab_type": "text"
      },
      "source": [
        "**A little bit improvement compared to the model w/o data augmentation (0.8929).**"
      ]
    },
    {
      "cell_type": "markdown",
      "metadata": {
        "id": "A40XBQIckhtT",
        "colab_type": "text"
      },
      "source": [
        "### Aug6: only height and width shift"
      ]
    },
    {
      "cell_type": "code",
      "metadata": {
        "id": "0eN0Lnv5k5XU",
        "colab_type": "code",
        "outputId": "a567bb5c-ad2b-4c5c-daae-0855c3934f0b",
        "colab": {
          "base_uri": "https://localhost:8080/",
          "height": 72
        }
      },
      "source": [
        "my_model7 = Model(input=input, output=x)\n",
        "my_model7.compile(loss='categorical_crossentropy',\n",
        "              optimizer='adam',\n",
        "              metrics=['accuracy'])"
      ],
      "execution_count": 0,
      "outputs": [
        {
          "output_type": "stream",
          "text": [
            "/usr/local/lib/python3.6/dist-packages/ipykernel_launcher.py:1: UserWarning: Update your `Model` call to the Keras 2 API: `Model(inputs=Tensor(\"im..., outputs=Tensor(\"pr...)`\n",
            "  \"\"\"Entry point for launching an IPython kernel.\n"
          ],
          "name": "stderr"
        }
      ]
    },
    {
      "cell_type": "code",
      "metadata": {
        "id": "FZmTLUeFk-eW",
        "colab_type": "code",
        "colab": {}
      },
      "source": [
        "# datagen6 only includes height and width shift\n",
        "datagen6 = ImageDataGenerator(width_shift_range=0.1, height_shift_range=0.1)\n",
        "datagen6.fit(X_train)"
      ],
      "execution_count": 0,
      "outputs": []
    },
    {
      "cell_type": "code",
      "metadata": {
        "id": "N3MEy5ublMqe",
        "colab_type": "code",
        "colab": {}
      },
      "source": [
        "callbacks7 = [EarlyStopping(monitor='val_loss', mode='min', patience=4),\n",
        "         ModelCheckpoint(filepath='best_model7.h5', monitor='val_loss', mode='min', save_best_only=True)]"
      ],
      "execution_count": 0,
      "outputs": []
    },
    {
      "cell_type": "code",
      "metadata": {
        "id": "TAfljHBalSHZ",
        "colab_type": "code",
        "outputId": "de4c57fa-b439-4119-a242-50ce95079598",
        "colab": {
          "base_uri": "https://localhost:8080/",
          "height": 384
        }
      },
      "source": [
        "# Fit the model on the batches generated by datagen.flow\n",
        "history7 = my_model7.fit_generator(datagen6.flow(X_train, y_train, batch_size=batch_size),\n",
        "                        steps_per_epoch=X_train.shape[0] // batch_size,\n",
        "                        validation_data=(X_valid, y_valid),\n",
        "                        callbacks=callbacks7,\n",
        "                        epochs=nb_epoch, verbose=1, max_q_size=100)"
      ],
      "execution_count": 0,
      "outputs": [
        {
          "output_type": "stream",
          "text": [
            "/usr/local/lib/python3.6/dist-packages/ipykernel_launcher.py:5: UserWarning: Update your `fit_generator` call to the Keras 2 API: `fit_generator(<keras_pre..., steps_per_epoch=125, validation_data=(array([[[..., callbacks=[<keras.ca..., epochs=20, verbose=1, max_queue_size=100)`\n",
            "  \"\"\"\n"
          ],
          "name": "stderr"
        },
        {
          "output_type": "stream",
          "text": [
            "Epoch 1/20\n",
            "125/125 [==============================] - 25s 203ms/step - loss: 0.1949 - acc: 0.9275 - val_loss: 0.4875 - val_acc: 0.8589\n",
            "Epoch 2/20\n",
            "125/125 [==============================] - 22s 180ms/step - loss: 0.1890 - acc: 0.9365 - val_loss: 0.4062 - val_acc: 0.8629\n",
            "Epoch 3/20\n",
            "125/125 [==============================] - 22s 180ms/step - loss: 0.1463 - acc: 0.9493 - val_loss: 0.4418 - val_acc: 0.8690\n",
            "Epoch 4/20\n",
            "125/125 [==============================] - 23s 180ms/step - loss: 0.1464 - acc: 0.9480 - val_loss: 0.4691 - val_acc: 0.8609\n",
            "Epoch 5/20\n",
            "125/125 [==============================] - 22s 180ms/step - loss: 0.1443 - acc: 0.9537 - val_loss: 0.3993 - val_acc: 0.8609\n",
            "Epoch 6/20\n",
            "125/125 [==============================] - 22s 179ms/step - loss: 0.1095 - acc: 0.9633 - val_loss: 0.4422 - val_acc: 0.8629\n",
            "Epoch 7/20\n",
            "125/125 [==============================] - 22s 180ms/step - loss: 0.1147 - acc: 0.9600 - val_loss: 0.5156 - val_acc: 0.8609\n",
            "Epoch 8/20\n",
            "125/125 [==============================] - 22s 180ms/step - loss: 0.1001 - acc: 0.9685 - val_loss: 0.4826 - val_acc: 0.8649\n",
            "Epoch 9/20\n",
            "125/125 [==============================] - 23s 180ms/step - loss: 0.0763 - acc: 0.9732 - val_loss: 0.4863 - val_acc: 0.8548\n"
          ],
          "name": "stdout"
        }
      ]
    },
    {
      "cell_type": "code",
      "metadata": {
        "id": "8SKvMMwelaet",
        "colab_type": "code",
        "outputId": "7228fcab-d77f-4dcd-d6ff-b1aea9fdab56",
        "colab": {
          "base_uri": "https://localhost:8080/",
          "height": 299
        }
      },
      "source": [
        "plt.plot(history7.history['acc'], 'bo', label='Training')\n",
        "plt.plot(history7.history['val_acc'], 'b', label='Validation')\n",
        "\n",
        "plt.title('Training and validation accuracy')\n",
        "plt.legend()"
      ],
      "execution_count": 0,
      "outputs": [
        {
          "output_type": "execute_result",
          "data": {
            "text/plain": [
              "<matplotlib.legend.Legend at 0x7f5414a05080>"
            ]
          },
          "metadata": {
            "tags": []
          },
          "execution_count": 75
        },
        {
          "output_type": "display_data",
          "data": {
            "image/png": "[encoded data removed]",
            "text/plain": [
              "<Figure size 432x288 with 1 Axes>"
            ]
          },
          "metadata": {
            "tags": []
          }
        }
      ]
    },
    {
      "cell_type": "code",
      "metadata": {
        "id": "EcslWSeHldrl",
        "colab_type": "code",
        "colab": {}
      },
      "source": [
        "opt_model7 = load_model('best_model7.h5')"
      ],
      "execution_count": 0,
      "outputs": []
    },
    {
      "cell_type": "code",
      "metadata": {
        "id": "rEXkps5Gljud",
        "colab_type": "code",
        "outputId": "9150ddca-76bb-4b4e-8d0f-511654b06e20",
        "colab": {
          "base_uri": "https://localhost:8080/",
          "height": 35
        }
      },
      "source": [
        "score7 = opt_model7.evaluate(X_test,y_test)"
      ],
      "execution_count": 0,
      "outputs": [
        {
          "output_type": "stream",
          "text": [
            "504/504 [==============================] - 3s 6ms/step\n"
          ],
          "name": "stdout"
        }
      ]
    },
    {
      "cell_type": "code",
      "metadata": {
        "id": "hd5IRLpUlmd-",
        "colab_type": "code",
        "outputId": "2a824902-b67a-4944-ecf9-ff685caced8b",
        "colab": {
          "base_uri": "https://localhost:8080/",
          "height": 35
        }
      },
      "source": [
        "score7"
      ],
      "execution_count": 0,
      "outputs": [
        {
          "output_type": "execute_result",
          "data": {
            "text/plain": [
              "[0.3375860435503816, 0.9107142857142857]"
            ]
          },
          "metadata": {
            "tags": []
          },
          "execution_count": 78
        }
      ]
    },
    {
      "cell_type": "markdown",
      "metadata": {
        "id": "39GF61V_n1aI",
        "colab_type": "text"
      },
      "source": [
        "**Great accuracy!**"
      ]
    },
    {
      "cell_type": "markdown",
      "metadata": {
        "id": "fEwSrQWwoSHm",
        "colab_type": "text"
      },
      "source": [
        "### Aug7: flips & shifts (aug5 + aug6)"
      ]
    },
    {
      "cell_type": "code",
      "metadata": {
        "id": "QGc_O3UToasS",
        "colab_type": "code",
        "outputId": "0e5c35f1-2513-4a39-9a45-3f8830e46048",
        "colab": {
          "base_uri": "https://localhost:8080/",
          "height": 72
        }
      },
      "source": [
        "my_model8 = Model(input=input, output=x)\n",
        "my_model8.compile(loss='categorical_crossentropy',\n",
        "              optimizer='adam',\n",
        "              metrics=['accuracy'])"
      ],
      "execution_count": 0,
      "outputs": [
        {
          "output_type": "stream",
          "text": [
            "/usr/local/lib/python3.6/dist-packages/ipykernel_launcher.py:1: UserWarning: Update your `Model` call to the Keras 2 API: `Model(inputs=Tensor(\"im..., outputs=Tensor(\"pr...)`\n",
            "  \"\"\"Entry point for launching an IPython kernel.\n"
          ],
          "name": "stderr"
        }
      ]
    },
    {
      "cell_type": "code",
      "metadata": {
        "id": "vfK6Fp-sod5v",
        "colab_type": "code",
        "colab": {}
      },
      "source": [
        "# datagen7 includes both flips and shifts\n",
        "datagen7 = ImageDataGenerator(width_shift_range=0.1, height_shift_range=0.1, horizontal_flip=True, vertical_flip=True)\n",
        "datagen7.fit(X_train)"
      ],
      "execution_count": 0,
      "outputs": []
    },
    {
      "cell_type": "code",
      "metadata": {
        "id": "tN7ABIVMopXp",
        "colab_type": "code",
        "colab": {}
      },
      "source": [
        "callbacks8 = [EarlyStopping(monitor='val_loss', mode='min', patience=4),\n",
        "         ModelCheckpoint(filepath='best_model8.h5', monitor='val_loss', mode='min', save_best_only=True)]"
      ],
      "execution_count": 0,
      "outputs": []
    },
    {
      "cell_type": "code",
      "metadata": {
        "id": "VR7cjIawouD6",
        "colab_type": "code",
        "outputId": "51b5bc66-a5cd-4d59-96bf-61aee5bb8a4b",
        "colab": {
          "base_uri": "https://localhost:8080/",
          "height": 419
        }
      },
      "source": [
        "# Fit the model on the batches generated by datagen.flow\n",
        "history8 = my_model8.fit_generator(datagen7.flow(X_train, y_train, batch_size=batch_size),\n",
        "                        steps_per_epoch=X_train.shape[0] // batch_size,\n",
        "                        validation_data=(X_valid, y_valid),\n",
        "                        callbacks=callbacks8,\n",
        "                        epochs=nb_epoch, verbose=1, max_q_size=100)"
      ],
      "execution_count": 0,
      "outputs": [
        {
          "output_type": "stream",
          "text": [
            "/usr/local/lib/python3.6/dist-packages/ipykernel_launcher.py:5: UserWarning: Update your `fit_generator` call to the Keras 2 API: `fit_generator(<keras_pre..., steps_per_epoch=125, validation_data=(array([[[..., callbacks=[<keras.ca..., epochs=20, verbose=1, max_queue_size=100)`\n",
            "  \"\"\"\n"
          ],
          "name": "stderr"
        },
        {
          "output_type": "stream",
          "text": [
            "Epoch 1/20\n",
            "125/125 [==============================] - 28s 220ms/step - loss: 0.3037 - acc: 0.8995 - val_loss: 0.3542 - val_acc: 0.8710\n",
            "Epoch 2/20\n",
            "125/125 [==============================] - 24s 193ms/step - loss: 0.2425 - acc: 0.9110 - val_loss: 0.4505 - val_acc: 0.8609\n",
            "Epoch 3/20\n",
            "125/125 [==============================] - 25s 203ms/step - loss: 0.2284 - acc: 0.9197 - val_loss: 0.4588 - val_acc: 0.8548\n",
            "Epoch 4/20\n",
            "125/125 [==============================] - 25s 198ms/step - loss: 0.2206 - acc: 0.9240 - val_loss: 0.3245 - val_acc: 0.8871\n",
            "Epoch 5/20\n",
            "125/125 [==============================] - 25s 203ms/step - loss: 0.2053 - acc: 0.9317 - val_loss: 0.3281 - val_acc: 0.8690\n",
            "Epoch 6/20\n",
            "125/125 [==============================] - 24s 194ms/step - loss: 0.2042 - acc: 0.9218 - val_loss: 0.3020 - val_acc: 0.8891\n",
            "Epoch 7/20\n",
            "125/125 [==============================] - 25s 202ms/step - loss: 0.2033 - acc: 0.9310 - val_loss: 0.3486 - val_acc: 0.8770\n",
            "Epoch 8/20\n",
            "125/125 [==============================] - 25s 197ms/step - loss: 0.1840 - acc: 0.9353 - val_loss: 0.3786 - val_acc: 0.8750\n",
            "Epoch 9/20\n",
            "125/125 [==============================] - 25s 201ms/step - loss: 0.1852 - acc: 0.9390 - val_loss: 0.3217 - val_acc: 0.8790\n",
            "Epoch 10/20\n",
            "125/125 [==============================] - 26s 205ms/step - loss: 0.1802 - acc: 0.9368 - val_loss: 0.3355 - val_acc: 0.8750\n"
          ],
          "name": "stdout"
        }
      ]
    },
    {
      "cell_type": "code",
      "metadata": {
        "id": "L08MxxKaozYU",
        "colab_type": "code",
        "outputId": "18319afa-d153-45c1-9587-8529a8ac6b4e",
        "colab": {
          "base_uri": "https://localhost:8080/",
          "height": 299
        }
      },
      "source": [
        "plt.plot(history8.history['acc'], 'bo', label='Training')\n",
        "plt.plot(history8.history['val_acc'], 'b', label='Validation')\n",
        "\n",
        "plt.title('Training and validation accuracy')\n",
        "plt.legend()"
      ],
      "execution_count": 0,
      "outputs": [
        {
          "output_type": "execute_result",
          "data": {
            "text/plain": [
              "<matplotlib.legend.Legend at 0x7f5413e42c88>"
            ]
          },
          "metadata": {
            "tags": []
          },
          "execution_count": 83
        },
        {
          "output_type": "display_data",
          "data": {
            "image/png": "[encoded data removed]",
            "text/plain": [
              "<Figure size 432x288 with 1 Axes>"
            ]
          },
          "metadata": {
            "tags": []
          }
        }
      ]
    },
    {
      "cell_type": "code",
      "metadata": {
        "id": "WCb8XT0Ro3de",
        "colab_type": "code",
        "colab": {}
      },
      "source": [
        "opt_model8 = load_model('best_model8.h5')"
      ],
      "execution_count": 0,
      "outputs": []
    },
    {
      "cell_type": "code",
      "metadata": {
        "id": "RoZS18GDo6Z7",
        "colab_type": "code",
        "outputId": "44558b18-715c-42b9-9335-4fe3689b4b81",
        "colab": {
          "base_uri": "https://localhost:8080/",
          "height": 35
        }
      },
      "source": [
        "score8 = opt_model8.evaluate(X_test,y_test)"
      ],
      "execution_count": 0,
      "outputs": [
        {
          "output_type": "stream",
          "text": [
            "504/504 [==============================] - 3s 6ms/step\n"
          ],
          "name": "stdout"
        }
      ]
    },
    {
      "cell_type": "code",
      "metadata": {
        "id": "MzDqQmDSo9hk",
        "colab_type": "code",
        "outputId": "942a622a-c814-4c8b-a63a-2380483b57b5",
        "colab": {
          "base_uri": "https://localhost:8080/",
          "height": 35
        }
      },
      "source": [
        "score8"
      ],
      "execution_count": 0,
      "outputs": [
        {
          "output_type": "execute_result",
          "data": {
            "text/plain": [
              "[0.3048779737381708, 0.9047619047619048]"
            ]
          },
          "metadata": {
            "tags": []
          },
          "execution_count": 86
        }
      ]
    },
    {
      "cell_type": "markdown",
      "metadata": {
        "id": "Y2-aEvWbq5IZ",
        "colab_type": "text"
      },
      "source": [
        "**This model also shows improvement. But not as good as shifts only. Ranking by model performance: aug6 > aug7 > aug5.**"
      ]
    }
  ]
}