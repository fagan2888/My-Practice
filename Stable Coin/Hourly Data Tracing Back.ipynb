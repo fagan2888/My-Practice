{
 "cells": [
  {
   "cell_type": "markdown",
   "metadata": {},
   "source": [
    "### The following dataframes df1~df4 are in sequence (2018/8/7-19/7/6). df5 is for experiment."
   ]
  },
  {
   "cell_type": "code",
   "execution_count": 1,
   "metadata": {},
   "outputs": [],
   "source": [
    "from CryptoCompareAPI import CryptoCompareAPI\n",
    "from utils import COIN_LIST, myconcat\n",
    "import pandas as pd"
   ]
  },
  {
   "cell_type": "code",
   "execution_count": 2,
   "metadata": {},
   "outputs": [],
   "source": [
    "# Get trading data from CryptoCompareAPI\n",
    "api = CryptoCompareAPI()\n",
    "\n",
    "param_list1 = []\n",
    "for coin in COIN_LIST:\n",
    "    param_list1.append(\n",
    "        {'fsym':coin, 'tsym':'USD', 'limit':2000, 'toTs':10000000000}\n",
    "    )\n",
    "\n",
    "df_list1 = []\n",
    "for param in param_list1:\n",
    "    df = api.getCandle('h', param)\n",
    "    df_list1.append(df)\n",
    "\n",
    "df1 = myconcat(df_list1, ['time', 'close'])\n",
    "df1.columns = ['time'] + COIN_LIST\n",
    "df1.time = pd.to_datetime(df1.time, unit='s')"
   ]
  },
  {
   "cell_type": "code",
   "execution_count": 3,
   "metadata": {},
   "outputs": [
    {
     "data": {
      "text/plain": [
       "Timestamp('2019-04-14 09:00:00')"
      ]
     },
     "execution_count": 3,
     "metadata": {},
     "output_type": "execute_result"
    }
   ],
   "source": [
    "df1.time[0]"
   ]
  },
  {
   "cell_type": "code",
   "execution_count": 4,
   "metadata": {},
   "outputs": [],
   "source": [
    "param_list2 = []\n",
    "for coin in COIN_LIST:\n",
    "    param_list2.append(\n",
    "        {'fsym':coin, 'tsym':'USD', 'limit':2000, 'toTs':1555232400}\n",
    "    )\n",
    "\n",
    "df_list2 = []\n",
    "for param in param_list2:\n",
    "    df = api.getCandle('h', param)\n",
    "    df_list2.append(df)\n",
    "\n",
    "df2 = myconcat(df_list2, ['time', 'close'])\n",
    "df2.columns = ['time'] + COIN_LIST\n",
    "df2.time = pd.to_datetime(df2.time, unit='s')"
   ]
  },
  {
   "cell_type": "code",
   "execution_count": 5,
   "metadata": {},
   "outputs": [
    {
     "data": {
      "text/plain": [
       "Timestamp('2019-01-21 01:00:00')"
      ]
     },
     "execution_count": 5,
     "metadata": {},
     "output_type": "execute_result"
    }
   ],
   "source": [
    "df2.time[0]"
   ]
  },
  {
   "cell_type": "code",
   "execution_count": 8,
   "metadata": {},
   "outputs": [],
   "source": [
    "param_list3 = []\n",
    "for coin in COIN_LIST:\n",
    "    param_list3.append(\n",
    "        {'fsym':coin, 'tsym':'USD', 'limit':2000, 'toTs':1548032400}\n",
    "    )\n",
    "\n",
    "df_list3 = []\n",
    "for param in param_list3:\n",
    "    df = api.getCandle('h', param)\n",
    "    df_list3.append(df)\n",
    "\n",
    "df3 = myconcat(df_list3, ['time', 'close'])\n",
    "df3.columns = ['time'] + COIN_LIST\n",
    "df3.time = pd.to_datetime(df3.time, unit='s')"
   ]
  },
  {
   "cell_type": "code",
   "execution_count": 9,
   "metadata": {},
   "outputs": [
    {
     "data": {
      "text/plain": [
       "Timestamp('2018-10-29 17:00:00')"
      ]
     },
     "execution_count": 9,
     "metadata": {},
     "output_type": "execute_result"
    }
   ],
   "source": [
    "df3.time[0]"
   ]
  },
  {
   "cell_type": "code",
   "execution_count": 12,
   "metadata": {},
   "outputs": [],
   "source": [
    "param_list4 = []\n",
    "for coin in COIN_LIST:\n",
    "    param_list4.append(\n",
    "        {'fsym':coin, 'tsym':'USD', 'limit':2000, 'toTs':1540832400}\n",
    "    )\n",
    "\n",
    "df_list4 = []\n",
    "for param in param_list4:\n",
    "    df = api.getCandle('h', param)\n",
    "    df_list4.append(df)\n",
    "\n",
    "df4 = myconcat(df_list4, ['time', 'close'])\n",
    "df4.columns = ['time'] + COIN_LIST\n",
    "df4.time = pd.to_datetime(df4.time, unit='s')"
   ]
  },
  {
   "cell_type": "code",
   "execution_count": 13,
   "metadata": {},
   "outputs": [
    {
     "data": {
      "text/plain": [
       "Timestamp('2018-08-07 09:00:00')"
      ]
     },
     "execution_count": 13,
     "metadata": {},
     "output_type": "execute_result"
    }
   ],
   "source": [
    "df4.time[0]"
   ]
  },
  {
   "cell_type": "code",
   "execution_count": 14,
   "metadata": {},
   "outputs": [],
   "source": [
    "param_list5 = []\n",
    "for coin in COIN_LIST:\n",
    "    param_list5.append(\n",
    "        {'fsym':coin, 'tsym':'USD', 'limit':2000, 'toTs':1500000000}\n",
    "    )\n",
    "\n",
    "df_list5 = []\n",
    "for param in param_list5:\n",
    "    df = api.getCandle('h', param)\n",
    "    df_list5.append(df)\n",
    "\n",
    "df5 = myconcat(df_list5, ['time', 'close'])\n",
    "df5.columns = ['time'] + COIN_LIST\n",
    "df5.time = pd.to_datetime(df5.time, unit='s')"
   ]
  },
  {
   "cell_type": "code",
   "execution_count": 15,
   "metadata": {},
   "outputs": [
    {
     "data": {
      "text/plain": [
       "Timestamp('2017-04-21 18:00:00')"
      ]
     },
     "execution_count": 15,
     "metadata": {},
     "output_type": "execute_result"
    }
   ],
   "source": [
    "df5.time[0]"
   ]
  },
  {
   "cell_type": "code",
   "execution_count": 18,
   "metadata": {},
   "outputs": [
    {
     "data": {
      "text/html": [
       "<div>\n",
       "<style scoped>\n",
       "    .dataframe tbody tr th:only-of-type {\n",
       "        vertical-align: middle;\n",
       "    }\n",
       "\n",
       "    .dataframe tbody tr th {\n",
       "        vertical-align: top;\n",
       "    }\n",
       "\n",
       "    .dataframe thead th {\n",
       "        text-align: right;\n",
       "    }\n",
       "</style>\n",
       "<table border=\"1\" class=\"dataframe\">\n",
       "  <thead>\n",
       "    <tr style=\"text-align: right;\">\n",
       "      <th></th>\n",
       "      <th>time</th>\n",
       "      <th>USDT</th>\n",
       "      <th>DAI</th>\n",
       "      <th>TUSD</th>\n",
       "      <th>GUSD</th>\n",
       "      <th>USDC</th>\n",
       "      <th>PAX</th>\n",
       "      <th>USDS</th>\n",
       "    </tr>\n",
       "  </thead>\n",
       "  <tbody>\n",
       "    <tr>\n",
       "      <th>0</th>\n",
       "      <td>2017-04-21 18:00:00</td>\n",
       "      <td>0.9250</td>\n",
       "      <td>0</td>\n",
       "      <td>0</td>\n",
       "      <td>0</td>\n",
       "      <td>0</td>\n",
       "      <td>0</td>\n",
       "      <td>0</td>\n",
       "    </tr>\n",
       "    <tr>\n",
       "      <th>1</th>\n",
       "      <td>2017-04-21 19:00:00</td>\n",
       "      <td>0.9231</td>\n",
       "      <td>0</td>\n",
       "      <td>0</td>\n",
       "      <td>0</td>\n",
       "      <td>0</td>\n",
       "      <td>0</td>\n",
       "      <td>0</td>\n",
       "    </tr>\n",
       "    <tr>\n",
       "      <th>2</th>\n",
       "      <td>2017-04-21 20:00:00</td>\n",
       "      <td>0.9250</td>\n",
       "      <td>0</td>\n",
       "      <td>0</td>\n",
       "      <td>0</td>\n",
       "      <td>0</td>\n",
       "      <td>0</td>\n",
       "      <td>0</td>\n",
       "    </tr>\n",
       "    <tr>\n",
       "      <th>3</th>\n",
       "      <td>2017-04-21 21:00:00</td>\n",
       "      <td>0.9166</td>\n",
       "      <td>0</td>\n",
       "      <td>0</td>\n",
       "      <td>0</td>\n",
       "      <td>0</td>\n",
       "      <td>0</td>\n",
       "      <td>0</td>\n",
       "    </tr>\n",
       "    <tr>\n",
       "      <th>4</th>\n",
       "      <td>2017-04-21 22:00:00</td>\n",
       "      <td>0.9500</td>\n",
       "      <td>0</td>\n",
       "      <td>0</td>\n",
       "      <td>0</td>\n",
       "      <td>0</td>\n",
       "      <td>0</td>\n",
       "      <td>0</td>\n",
       "    </tr>\n",
       "  </tbody>\n",
       "</table>\n",
       "</div>"
      ],
      "text/plain": [
       "                 time    USDT  DAI  TUSD  GUSD  USDC  PAX  USDS\n",
       "0 2017-04-21 18:00:00  0.9250    0     0     0     0    0     0\n",
       "1 2017-04-21 19:00:00  0.9231    0     0     0     0    0     0\n",
       "2 2017-04-21 20:00:00  0.9250    0     0     0     0    0     0\n",
       "3 2017-04-21 21:00:00  0.9166    0     0     0     0    0     0\n",
       "4 2017-04-21 22:00:00  0.9500    0     0     0     0    0     0"
      ]
     },
     "execution_count": 18,
     "metadata": {},
     "output_type": "execute_result"
    }
   ],
   "source": [
    "df5.head()"
   ]
  }
 ],
 "metadata": {
  "kernelspec": {
   "display_name": "Python 3",
   "language": "python",
   "name": "python3"
  },
  "language_info": {
   "codemirror_mode": {
    "name": "ipython",
    "version": 3
   },
   "file_extension": ".py",
   "mimetype": "text/x-python",
   "name": "python",
   "nbconvert_exporter": "python",
   "pygments_lexer": "ipython3",
   "version": "3.7.0"
  }
 },
 "nbformat": 4,
 "nbformat_minor": 2
}
